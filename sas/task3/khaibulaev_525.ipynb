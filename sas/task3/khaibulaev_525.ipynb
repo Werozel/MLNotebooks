{
 "nbformat": 4,
 "nbformat_minor": 0,
 "metadata": {
  "colab": {
   "name": "Задание3ИАД.ipynb",
   "provenance": [],
   "collapsed_sections": []
  },
  "kernelspec": {
   "name": "python3",
   "display_name": "Python 3"
  },
  "language_info": {
   "name": "python"
  }
 },
 "cells": [
  {
   "cell_type": "code",
   "source": [
    "import warnings\n",
    "warnings.filterwarnings('ignore')"
   ],
   "metadata": {
    "id": "p41tv6DRBq3v"
   },
   "execution_count": 427,
   "outputs": []
  },
  {
   "cell_type": "markdown",
   "source": [
    "### Импорт библиотек"
   ],
   "metadata": {
    "id": "BvlBvTDIn371"
   }
  },
  {
   "cell_type": "code",
   "execution_count": 428,
   "metadata": {
    "id": "VB-0IuuFnwtp"
   },
   "outputs": [],
   "source": [
    "# Импорт библиотек для проведения расчетов\n",
    "import pandas as pd\n",
    "import numpy as np\n",
    "from sklearn.preprocessing import StandardScaler\n",
    "from sklearn.preprocessing import QuantileTransformer\n",
    "from sklearn.decomposition import PCA\n",
    "\n",
    "from sklearn.model_selection import train_test_split\n",
    "from sklearn.pipeline import Pipeline\n",
    "from sklearn.preprocessing import FunctionTransformer\n",
    "from sklearn.metrics import mean_squared_error"
   ]
  },
  {
   "cell_type": "code",
   "source": [
    "# Импорт библиотек для визуализации\n",
    "from matplotlib import pyplot as plt\n",
    "import seaborn as sns"
   ],
   "metadata": {
    "id": "waEHhJ88dGHf"
   },
   "execution_count": 429,
   "outputs": []
  },
  {
   "cell_type": "code",
   "source": [
    "# Импорт библиотеки кластеризации переменных\n",
    "# https://pypi.org/project/varclushi/\n",
    "from varclushi import VarClusHi"
   ],
   "metadata": {
    "id": "wgo080PnQxUS",
    "colab": {
     "base_uri": "https://localhost:8080/"
    },
    "outputId": "4e9f2b7e-5073-45c4-8b08-ff435ec5805a"
   },
   "execution_count": 430,
   "outputs": []
  },
  {
   "cell_type": "markdown",
   "source": [
    "## Загрузка данных"
   ],
   "metadata": {
    "id": "E79qR3s7n_1X"
   }
  },
  {
   "cell_type": "code",
   "source": [
    "# Указываем путь к файлу\n",
    "# При работе с google colab существует 2 варианта загрузки файла:\n",
    "# 1. Через google drive\n",
    "# 2. Через левое меню: \"файлы\" -> \"загрузить в сессионное хранилище\" -> \"скопировать файл\" (при наведении на файл)\n",
    "file_path = 'white_wine.csv'"
   ],
   "metadata": {
    "id": "jtYmPhhDoCQI"
   },
   "execution_count": 431,
   "outputs": []
  },
  {
   "cell_type": "code",
   "source": [
    "# Загружаем данные из SAS файла\n",
    "df = pd.read_csv(file_path)\n",
    "df = df.astype('float')\n",
    "df = df.rename(columns=lambda x: x.strip())\n",
    "# Пример данных\n",
    "df.head()"
   ],
   "metadata": {
    "id": "E8LgzOBwoKsT",
    "colab": {
     "base_uri": "https://localhost:8080/",
     "height": 206
    },
    "outputId": "6f7a217a-a0a5-4150-cab0-ef46616dcf15"
   },
   "execution_count": 432,
   "outputs": [
    {
     "data": {
      "text/plain": "   fixed acidity  volatile acidity  citric acid  sugar  chlorides  \\\n0            7.0              0.27         0.36   20.7      0.045   \n1            6.3              0.30         0.34    1.6      0.049   \n2            8.1              0.28         0.40    6.9      0.050   \n3            7.2              0.23         0.32    8.5      0.058   \n4            7.2              0.23         0.32    8.5      0.058   \n\n   free sulfur dioxide  total sulfur dioxide  density    pH  sulphates  \\\n0                 45.0                 170.0   1.0010  3.00       0.45   \n1                 14.0                 132.0   0.9940  3.30       0.49   \n2                 30.0                  97.0   0.9951  3.26       0.44   \n3                 47.0                 186.0   0.9956  3.19       0.40   \n4                 47.0                 186.0   0.9956  3.19       0.40   \n\n   alcohol  target_quality  \n0      8.8             6.0  \n1      9.5             6.0  \n2     10.1             6.0  \n3      9.9             6.0  \n4      9.9             6.0  ",
      "text/html": "<div>\n<style scoped>\n    .dataframe tbody tr th:only-of-type {\n        vertical-align: middle;\n    }\n\n    .dataframe tbody tr th {\n        vertical-align: top;\n    }\n\n    .dataframe thead th {\n        text-align: right;\n    }\n</style>\n<table border=\"1\" class=\"dataframe\">\n  <thead>\n    <tr style=\"text-align: right;\">\n      <th></th>\n      <th>fixed acidity</th>\n      <th>volatile acidity</th>\n      <th>citric acid</th>\n      <th>sugar</th>\n      <th>chlorides</th>\n      <th>free sulfur dioxide</th>\n      <th>total sulfur dioxide</th>\n      <th>density</th>\n      <th>pH</th>\n      <th>sulphates</th>\n      <th>alcohol</th>\n      <th>target_quality</th>\n    </tr>\n  </thead>\n  <tbody>\n    <tr>\n      <th>0</th>\n      <td>7.0</td>\n      <td>0.27</td>\n      <td>0.36</td>\n      <td>20.7</td>\n      <td>0.045</td>\n      <td>45.0</td>\n      <td>170.0</td>\n      <td>1.0010</td>\n      <td>3.00</td>\n      <td>0.45</td>\n      <td>8.8</td>\n      <td>6.0</td>\n    </tr>\n    <tr>\n      <th>1</th>\n      <td>6.3</td>\n      <td>0.30</td>\n      <td>0.34</td>\n      <td>1.6</td>\n      <td>0.049</td>\n      <td>14.0</td>\n      <td>132.0</td>\n      <td>0.9940</td>\n      <td>3.30</td>\n      <td>0.49</td>\n      <td>9.5</td>\n      <td>6.0</td>\n    </tr>\n    <tr>\n      <th>2</th>\n      <td>8.1</td>\n      <td>0.28</td>\n      <td>0.40</td>\n      <td>6.9</td>\n      <td>0.050</td>\n      <td>30.0</td>\n      <td>97.0</td>\n      <td>0.9951</td>\n      <td>3.26</td>\n      <td>0.44</td>\n      <td>10.1</td>\n      <td>6.0</td>\n    </tr>\n    <tr>\n      <th>3</th>\n      <td>7.2</td>\n      <td>0.23</td>\n      <td>0.32</td>\n      <td>8.5</td>\n      <td>0.058</td>\n      <td>47.0</td>\n      <td>186.0</td>\n      <td>0.9956</td>\n      <td>3.19</td>\n      <td>0.40</td>\n      <td>9.9</td>\n      <td>6.0</td>\n    </tr>\n    <tr>\n      <th>4</th>\n      <td>7.2</td>\n      <td>0.23</td>\n      <td>0.32</td>\n      <td>8.5</td>\n      <td>0.058</td>\n      <td>47.0</td>\n      <td>186.0</td>\n      <td>0.9956</td>\n      <td>3.19</td>\n      <td>0.40</td>\n      <td>9.9</td>\n      <td>6.0</td>\n    </tr>\n  </tbody>\n</table>\n</div>"
     },
     "execution_count": 432,
     "metadata": {},
     "output_type": "execute_result"
    }
   ]
  },
  {
   "cell_type": "markdown",
   "source": [
    "## Функции обработки"
   ],
   "metadata": {
    "id": "do4hZydVE-Mx"
   }
  },
  {
   "cell_type": "code",
   "source": [
    "# Метод главных компонент\n",
    "def pca_transform(X, transform = []):\n",
    "    pca_model = PCA(n_components='mle')\n",
    "    pca_model.fit(X)\n",
    "\n",
    "    if transform == []:\n",
    "        transform = [X]\n",
    "    return [pca_model.transform(t) for t in transform]"
   ],
   "metadata": {
    "id": "WFFnRUa7bghT"
   },
   "execution_count": 433,
   "outputs": []
  },
  {
   "cell_type": "code",
   "source": [
    "# Кластеризация переменных\n",
    "def variable_clustering(X, transform = []):\n",
    "    var_clust_model = VarClusHi(X, maxeigval2 = .7, maxclus = None)\n",
    "    var_clust_model.varclus()\n",
    "    var_clust = var_clust_model.rsquare.loc[:, [\"Cluster\",\"Variable\",\"RS_Ratio\"]]\n",
    "    vars = var_clust.sort_values(\"RS_Ratio\").drop_duplicates(['Cluster'],keep='first')[\"Variable\"].to_list()\n",
    "\n",
    "    if transform == []:\n",
    "        transform = [X]\n",
    "    return [t.loc[:, vars] for t in transform]"
   ],
   "metadata": {
    "id": "xkDFlEqVRyX1"
   },
   "execution_count": 434,
   "outputs": []
  },
  {
   "cell_type": "code",
   "source": [
    "# Разделение на обучающую, валидационную и тестовую выборку\n",
    "def data_partition(X, y):\n",
    "    X_train, X_test_val, y_train, y_test_val = train_test_split(X, y, stratify = y, test_size=0.6, random_state=42)\n",
    "    X_val, X_test, y_val, y_test = train_test_split(X_test_val, y_test_val, stratify = y_test_val, test_size=0.5, random_state=42)\n",
    "    return (X_train, y_train, X_val, y_val, X_test, y_test)"
   ],
   "metadata": {
    "id": "PoJOgLC9xylf"
   },
   "execution_count": 435,
   "outputs": []
  },
  {
   "cell_type": "code",
   "source": [
    "# Расчет ошибки прогнозирования\n",
    "def score_model_mae(model, \n",
    "                    X_train, y_train,\n",
    "                    X_val, y_val,\n",
    "                    X_test, y_test):\n",
    "    print(model.__class__.__name__)\n",
    "    print(\"TRAIN MSE: {:f}\".format(mean_squared_error(y_train, model.predict(X_train))))\n",
    "    print(\"VAL MSE: {:f}\".format(mean_squared_error(y_val, model.predict(X_val))))\n",
    "    print(\"TEST MSE: {:f}\".format(mean_squared_error(y_test, model.predict(X_test))))"
   ],
   "metadata": {
    "id": "l3pnB8YFMU5a"
   },
   "execution_count": 436,
   "outputs": []
  },
  {
   "cell_type": "markdown",
   "source": [
    "## Формирование признакового пространства"
   ],
   "metadata": {
    "id": "kw1nPAhesq5q"
   }
  },
  {
   "cell_type": "code",
   "execution_count": 437,
   "outputs": [
    {
     "data": {
      "text/plain": "Index(['fixed acidity', 'volatile acidity', 'citric acid', 'sugar',\n       'chlorides', 'free sulfur dioxide', 'total sulfur dioxide', 'density',\n       'pH', 'sulphates', 'alcohol', 'target_quality'],\n      dtype='object')"
     },
     "execution_count": 437,
     "metadata": {},
     "output_type": "execute_result"
    }
   ],
   "source": [
    "df.columns"
   ],
   "metadata": {
    "collapsed": false,
    "pycharm": {
     "name": "#%%\n"
    }
   }
  },
  {
   "cell_type": "code",
   "source": [
    "# Сформируем признаковое пространство:\n",
    "# Целевая переменная: target_quality. Описывает субъективную оценку качества сорта вина. \n",
    "# Остальные переменные - входные. \n",
    "# Задача – спрогнозировать оценку эксперта в зависимости от объективных химических показателей вина и выявить важные признаки\n",
    "y = df[\"target_quality\"].to_frame()\n",
    "X = df.loc[:, list(set(df.columns) - {\"target_quality\"})]\n",
    "\n",
    "# Дискретизация отклика\n",
    "qtransform = QuantileTransformer(output_distribution='normal', n_quantiles = 5, random_state = 42)\n",
    "y.values[:] = qtransform.fit_transform(y)"
   ],
   "metadata": {
    "id": "gjd_hshctEQm"
   },
   "execution_count": 438,
   "outputs": []
  },
  {
   "cell_type": "markdown",
   "source": [
    "## Часть 1: KNN"
   ],
   "metadata": {
    "id": "l9YYUjBdswjQ"
   }
  },
  {
   "cell_type": "code",
   "source": [
    "from sklearn.neighbors import KNeighborsRegressor\n",
    "\n",
    "X_train, y_train, X_val, y_val, X_test, y_test = data_partition(X, y)\n",
    "\n",
    "# Стандартизация\n",
    "scaler = StandardScaler()\n",
    "scaler.fit(X_train)\n",
    "for X_ in (X_train, X_val, X_test):\n",
    "    X_.values[:] = scaler.transform(X_)\n",
    "\n",
    "# KNN \n",
    "knn = KNeighborsRegressor(n_neighbors=20)\n",
    "knn.fit(X_train, y_train)"
   ],
   "metadata": {
    "colab": {
     "base_uri": "https://localhost:8080/"
    },
    "id": "tw0XDXzns9V3",
    "outputId": "c00502be-d844-4678-e39c-aec0bb09dd13"
   },
   "execution_count": 439,
   "outputs": [
    {
     "data": {
      "text/plain": "KNeighborsRegressor(n_neighbors=20)"
     },
     "execution_count": 439,
     "metadata": {},
     "output_type": "execute_result"
    }
   ]
  },
  {
   "cell_type": "markdown",
   "source": [
    "### Вопросы части 1:\n",
    "\n",
    "1. Какие значения MSE получились на тренировочном, валидационном и тестовом наборе данных?\n",
    "2. Перед применением KNN вставьте предобработку PCA (Вариант I), Variable clustering (Вариант II). \n",
    "3. Сколько переменных теперь передается на вход KNN? Как изменились значения MSE в результате? Почему это могло произойти?"
   ],
   "metadata": {
    "id": "KbTrtDyoYY5l"
   }
  },
  {
   "cell_type": "markdown",
   "source": [
    "### Вопрос 1"
   ],
   "metadata": {
    "collapsed": false
   }
  },
  {
   "cell_type": "code",
   "execution_count": 440,
   "outputs": [
    {
     "name": "stdout",
     "output_type": "stream",
     "text": [
      "KNeighborsRegressor\n",
      "TRAIN MSE: 0.385404\n",
      "VAL MSE: 0.441951\n",
      "TEST MSE: 0.402548\n"
     ]
    }
   ],
   "source": [
    "# MSE\n",
    "score_model_mae(knn, X_train, y_train, X_val, y_val, X_test, y_test)"
   ],
   "metadata": {
    "collapsed": false,
    "pycharm": {
     "name": "#%%\n"
    }
   }
  },
  {
   "cell_type": "markdown",
   "source": [
    "### Вопрос 2"
   ],
   "metadata": {
    "collapsed": false
   }
  },
  {
   "cell_type": "code",
   "execution_count": 441,
   "outputs": [
    {
     "data": {
      "text/plain": "KNeighborsRegressor(n_neighbors=20)"
     },
     "execution_count": 441,
     "metadata": {},
     "output_type": "execute_result"
    }
   ],
   "source": [
    "# Применяем кластеризацию переменных\n",
    "X_clustered = variable_clustering(X)[0]\n",
    "X_train, y_train, X_val, y_val, X_test, y_test = data_partition(X_clustered, y)\n",
    "\n",
    "# Стандартизация\n",
    "scaler = StandardScaler()\n",
    "scaler.fit(X_train)\n",
    "for X_ in (X_train, X_val, X_test):\n",
    "    X_.values[:] = scaler.transform(X_)\n",
    "\n",
    "# KNN\n",
    "knn = KNeighborsRegressor(n_neighbors=20)\n",
    "knn.fit(X_train, y_train)"
   ],
   "metadata": {
    "collapsed": false,
    "pycharm": {
     "name": "#%%\n"
    }
   }
  },
  {
   "cell_type": "markdown",
   "source": [
    "### Вопрос 3"
   ],
   "metadata": {
    "collapsed": false
   }
  },
  {
   "cell_type": "code",
   "execution_count": 442,
   "outputs": [
    {
     "data": {
      "text/plain": "7"
     },
     "execution_count": 442,
     "metadata": {},
     "output_type": "execute_result"
    }
   ],
   "source": [
    "# Сколько переменных передается в knn\n",
    "\n",
    "X_train.shape[1]"
   ],
   "metadata": {
    "collapsed": false,
    "pycharm": {
     "name": "#%%\n"
    }
   }
  },
  {
   "cell_type": "code",
   "execution_count": 443,
   "outputs": [
    {
     "name": "stdout",
     "output_type": "stream",
     "text": [
      "KNeighborsRegressor\n",
      "TRAIN MSE: 0.413794\n",
      "VAL MSE: 0.450412\n",
      "TEST MSE: 0.432806\n"
     ]
    }
   ],
   "source": [
    "# Как изменилось значение MSE\n",
    "\n",
    "score_model_mae(knn, X_train, y_train, X_val, y_val, X_test, y_test)"
   ],
   "metadata": {
    "collapsed": false,
    "pycharm": {
     "name": "#%%\n"
    }
   }
  },
  {
   "cell_type": "markdown",
   "source": [
    "MSE Повысился из-за того, что убранные переменные были важны для knn"
   ],
   "metadata": {
    "collapsed": false
   }
  },
  {
   "cell_type": "markdown",
   "source": [
    "## Часть 2: Regression"
   ],
   "metadata": {
    "id": "dJ0oISO9s2TM"
   }
  },
  {
   "cell_type": "code",
   "source": [
    "from sklearn.preprocessing import MinMaxScaler\n",
    "from sklearn.preprocessing import PolynomialFeatures\n",
    "from sklearn.linear_model import LinearRegression\n",
    "from sklearn.feature_selection import SequentialFeatureSelector\n",
    "import statsmodels.api as sm\n",
    "# Документация для OLS\n",
    "# https://bookdown.org/mike/data_analysis/ordinary-least-squares.html\n",
    "\n",
    "X_train, y_train, X_val, y_val, X_test, y_test = data_partition(X, y)\n",
    "\n",
    "# MinMax стандартизация (вставьте свой код)"
   ],
   "metadata": {
    "id": "v-tCK0jas8O6"
   },
   "execution_count": 444,
   "outputs": []
  },
  {
   "cell_type": "code",
   "source": [
    "# Построим полиномиальную регрессию (degree = 2)\n",
    "\n",
    "# Отобразмим пространство признаков в пространство полиномов степени 2\n",
    "poly_reg = PolynomialFeatures(degree=2)\n",
    "X_train = poly_reg.fit_transform(X_train)\n",
    "X_val = poly_reg.transform(X_val)\n",
    "X_test = poly_reg.transform(X_test)\n",
    "\n",
    "# Определим лучшее число признаков с помощью Backward (измените код для отбора с помощью Forward)\n",
    "best_feats = None\n",
    "features = list(range(X_train.shape[1]))\n",
    "errs = []\n",
    "while len(features) > 0:\n",
    "    lr = LinearRegression()\n",
    "    lr.fit(X_train[:, features], y_train)\n",
    "    err = mean_squared_error(y_val, lr.predict(X_val[:, features]))\n",
    "    errs.append(err)\n",
    "    if min(errs) == err:\n",
    "        best_feats = features.copy()\n",
    "\n",
    "    model = sm.OLS(y_train, X_train[:, features])\n",
    "    res = model.fit()\n",
    "\n",
    "    # Выбираем худший признак и удаляем из пространства признаков\n",
    "    worse_feature = features[np.argmax(res.pvalues)]\n",
    "    features.remove(worse_feature)\n",
    "\n",
    "# Визуализируем ошибки\n",
    "idx = len(errs) - len(best_feats)\n",
    "plt.plot(errs)\n",
    "plt.plot(idx, errs[idx], 'P', ms=10, mfc='red')\n",
    "plt.xlabel(\"Номер итерации\")\n",
    "plt.ylabel(\"MSE\")\n",
    "plt.title(\"Ошибка при отборе признаков методом Backward\")\n",
    "plt.show()\n",
    "\n",
    "# Обучим линейную регрессию на лучших признаках\n",
    "lr = LinearRegression()\n",
    "lr.fit(X_train[:, best_feats], y_train)\n",
    "\n",
    "score_model_mae(lr, \n",
    "                X_train[:, best_feats], y_train, \n",
    "                X_val[:, best_feats], y_val, \n",
    "                X_test[:, best_feats], y_test)"
   ],
   "metadata": {
    "colab": {
     "base_uri": "https://localhost:8080/",
     "height": 364
    },
    "id": "48SOqsGjPgEH",
    "outputId": "2bd96928-8322-4eb7-b380-0dcc8fd971af"
   },
   "execution_count": 445,
   "outputs": [
    {
     "data": {
      "text/plain": "<Figure size 432x288 with 1 Axes>",
      "image/png": "[encoded data removed]"
     },
     "metadata": {
      "needs_background": "light"
     },
     "output_type": "display_data"
    },
    {
     "name": "stdout",
     "output_type": "stream",
     "text": [
      "LinearRegression\n",
      "TRAIN MSE: 0.374462\n",
      "VAL MSE: 0.450904\n",
      "TEST MSE: 0.390574\n"
     ]
    }
   ]
  },
  {
   "cell_type": "markdown",
   "source": [
    "### Вопросы к части 2:\n",
    "\n",
    "1. Аналогично алгоритму выбора признаков Backward, опишите алгоритм Forward\n",
    "2. Какая модель показывает лучшее качество на тестовом наборе? \n",
    "3. Какие переменные не вошли в результирующую регрессионую модель? \n",
    "4. На каком шаге была выбрана лучшая модель?\n",
    "5. С помощью summary() определите какая из вошедших переменных наименее важная с точки зрения t-статистики?\n",
    "\n",
    "5. После разделения данных добавьте MinMaxScaler. Как изменились результаты регрессионной модели с точки числа степеней свободы и значения MSE на тестовом наборе?"
   ],
   "metadata": {
    "id": "kRsF4BAMXxfo"
   }
  },
  {
   "cell_type": "markdown",
   "source": [
    "### Вопрос 1"
   ],
   "metadata": {
    "collapsed": false
   }
  },
  {
   "cell_type": "code",
   "execution_count": 446,
   "outputs": [],
   "source": [
    "def get_model_err(features, X_train, y_train, X_val, y_val):\n",
    "    lr = LinearRegression()\n",
    "    lr.fit(X_train[:, features], y_train)\n",
    "    err = mean_squared_error(y_val, lr.predict(X_val[:, features]))\n",
    "    return err"
   ],
   "metadata": {
    "collapsed": false,
    "pycharm": {
     "name": "#%%\n"
    }
   }
  },
  {
   "cell_type": "code",
   "execution_count": 447,
   "outputs": [
    {
     "data": {
      "text/plain": "<Figure size 432x288 with 1 Axes>",
      "image/png": "[encoded data removed]"
     },
     "metadata": {
      "needs_background": "light"
     },
     "output_type": "display_data"
    },
    {
     "name": "stdout",
     "output_type": "stream",
     "text": [
      "LinearRegression\n",
      "TRAIN MSE: 0.415995\n",
      "VAL MSE: 0.415390\n",
      "TEST MSE: 0.405762\n"
     ]
    }
   ],
   "source": [
    "X_train, y_train, X_val, y_val, X_test, y_test = data_partition(X, y)\n",
    "\n",
    "# Построим полиномиальную регрессию (degree = 2)\n",
    "# Отобразмим пространство признаков в пространство полиномов степени 2\n",
    "poly_reg = PolynomialFeatures(degree=2)\n",
    "X_train = poly_reg.fit_transform(X_train)\n",
    "X_val = poly_reg.transform(X_val)\n",
    "X_test = poly_reg.transform(X_test)\n",
    "\n",
    "# Forward feature selection\n",
    "best_feats = None\n",
    "remaining_feats = list(range(X_train.shape[1]))\n",
    "selected_features = []\n",
    "errs = []\n",
    "best_err = 1\n",
    "while len(selected_features) < X_train.shape[1]:\n",
    "\n",
    "    current_best_err = 1\n",
    "    current_best_features = []\n",
    "    selected_feature = None\n",
    "\n",
    "    for feature in remaining_feats:\n",
    "        tmp_feats = [feature, *selected_features]\n",
    "        err = get_model_err(tmp_feats, X_train, y_train, X_val, y_val)\n",
    "        if err < current_best_err:\n",
    "            selected_feature = feature\n",
    "            current_best_err = err\n",
    "            current_best_features = tmp_feats\n",
    "\n",
    "    errs.append(current_best_err)\n",
    "\n",
    "    if current_best_err < best_err:\n",
    "        best_err = current_best_err\n",
    "        best_feats = current_best_features\n",
    "\n",
    "    remaining_feats.remove(selected_feature)\n",
    "    selected_features.append(selected_feature)\n",
    "\n",
    "# Визуализируем ошибки\n",
    "idx = len(best_feats)\n",
    "plt.plot(errs)\n",
    "plt.plot(idx, errs[idx], 'P', ms=10, mfc='red')\n",
    "plt.xlabel(\"Номер итерации\")\n",
    "plt.ylabel(\"MSE\")\n",
    "plt.title(\"Ошибка при отборе признаков методом Backward\")\n",
    "plt.show()\n",
    "\n",
    "# Обучим линейную регрессию на лучших признаках\n",
    "lr = LinearRegression()\n",
    "lr.fit(X_train[:, best_feats], y_train)\n",
    "\n",
    "score_model_mae(lr,\n",
    "                X_train[:, best_feats], y_train,\n",
    "                X_val[:, best_feats], y_val,\n",
    "                X_test[:, best_feats], y_test)"
   ],
   "metadata": {
    "collapsed": false,
    "pycharm": {
     "name": "#%%\n"
    }
   }
  },
  {
   "cell_type": "markdown",
   "source": [
    "### Вопрос 2\n",
    "\n",
    "Backward оказался лучше на тестовом MSA = 0.390, а у Forward MSE = 0.405"
   ],
   "metadata": {
    "collapsed": false
   }
  },
  {
   "cell_type": "markdown",
   "source": [
    "### Вопрос 3"
   ],
   "metadata": {
    "collapsed": false
   }
  },
  {
   "cell_type": "markdown",
   "source": [
    "Не попавшие в выборку переменные"
   ],
   "metadata": {
    "collapsed": false
   }
  },
  {
   "cell_type": "code",
   "execution_count": 448,
   "outputs": [
    {
     "data": {
      "text/plain": "                                           0\n0                              fixed acidity\n1                                         pH\n2                                  chlorides\n3                       total sulfur dioxide\n4                                  sulphates\n5                        free sulfur dioxide\n6                                    sugar^2\n7                              sugar density\n8                                  density^2\n9                      density fixed acidity\n10                                density pH\n11                         density chlorides\n12              density total sulfur dioxide\n13                  density volatile acidity\n14                         density sulphates\n15               density free sulfur dioxide\n16                           fixed acidity^2\n17                   fixed acidity chlorides\n18                     fixed acidity alcohol\n19        fixed acidity total sulfur dioxide\n20            fixed acidity volatile acidity\n21                   fixed acidity sulphates\n22                 fixed acidity citric acid\n23         fixed acidity free sulfur dioxide\n24                                      pH^2\n25                              pH chlorides\n26                                pH alcohol\n27                   pH total sulfur dioxide\n28                       pH volatile acidity\n29                            pH citric acid\n30                         chlorides alcohol\n31            chlorides total sulfur dioxide\n32                chlorides volatile acidity\n33              alcohol total sulfur dioxide\n34               alcohol free sulfur dioxide\n35     total sulfur dioxide volatile acidity\n36          total sulfur dioxide citric acid\n37  total sulfur dioxide free sulfur dioxide\n38                        volatile acidity^2\n39                               sulphates^2\n40             sulphates free sulfur dioxide",
      "text/html": "<div>\n<style scoped>\n    .dataframe tbody tr th:only-of-type {\n        vertical-align: middle;\n    }\n\n    .dataframe tbody tr th {\n        vertical-align: top;\n    }\n\n    .dataframe thead th {\n        text-align: right;\n    }\n</style>\n<table border=\"1\" class=\"dataframe\">\n  <thead>\n    <tr style=\"text-align: right;\">\n      <th></th>\n      <th>0</th>\n    </tr>\n  </thead>\n  <tbody>\n    <tr>\n      <th>0</th>\n      <td>fixed acidity</td>\n    </tr>\n    <tr>\n      <th>1</th>\n      <td>pH</td>\n    </tr>\n    <tr>\n      <th>2</th>\n      <td>chlorides</td>\n    </tr>\n    <tr>\n      <th>3</th>\n      <td>total sulfur dioxide</td>\n    </tr>\n    <tr>\n      <th>4</th>\n      <td>sulphates</td>\n    </tr>\n    <tr>\n      <th>5</th>\n      <td>free sulfur dioxide</td>\n    </tr>\n    <tr>\n      <th>6</th>\n      <td>sugar^2</td>\n    </tr>\n    <tr>\n      <th>7</th>\n      <td>sugar density</td>\n    </tr>\n    <tr>\n      <th>8</th>\n      <td>density^2</td>\n    </tr>\n    <tr>\n      <th>9</th>\n      <td>density fixed acidity</td>\n    </tr>\n    <tr>\n      <th>10</th>\n      <td>density pH</td>\n    </tr>\n    <tr>\n      <th>11</th>\n      <td>density chlorides</td>\n    </tr>\n    <tr>\n      <th>12</th>\n      <td>density total sulfur dioxide</td>\n    </tr>\n    <tr>\n      <th>13</th>\n      <td>density volatile acidity</td>\n    </tr>\n    <tr>\n      <th>14</th>\n      <td>density sulphates</td>\n    </tr>\n    <tr>\n      <th>15</th>\n      <td>density free sulfur dioxide</td>\n    </tr>\n    <tr>\n      <th>16</th>\n      <td>fixed acidity^2</td>\n    </tr>\n    <tr>\n      <th>17</th>\n      <td>fixed acidity chlorides</td>\n    </tr>\n    <tr>\n      <th>18</th>\n      <td>fixed acidity alcohol</td>\n    </tr>\n    <tr>\n      <th>19</th>\n      <td>fixed acidity total sulfur dioxide</td>\n    </tr>\n    <tr>\n      <th>20</th>\n      <td>fixed acidity volatile acidity</td>\n    </tr>\n    <tr>\n      <th>21</th>\n      <td>fixed acidity sulphates</td>\n    </tr>\n    <tr>\n      <th>22</th>\n      <td>fixed acidity citric acid</td>\n    </tr>\n    <tr>\n      <th>23</th>\n      <td>fixed acidity free sulfur dioxide</td>\n    </tr>\n    <tr>\n      <th>24</th>\n      <td>pH^2</td>\n    </tr>\n    <tr>\n      <th>25</th>\n      <td>pH chlorides</td>\n    </tr>\n    <tr>\n      <th>26</th>\n      <td>pH alcohol</td>\n    </tr>\n    <tr>\n      <th>27</th>\n      <td>pH total sulfur dioxide</td>\n    </tr>\n    <tr>\n      <th>28</th>\n      <td>pH volatile acidity</td>\n    </tr>\n    <tr>\n      <th>29</th>\n      <td>pH citric acid</td>\n    </tr>\n    <tr>\n      <th>30</th>\n      <td>chlorides alcohol</td>\n    </tr>\n    <tr>\n      <th>31</th>\n      <td>chlorides total sulfur dioxide</td>\n    </tr>\n    <tr>\n      <th>32</th>\n      <td>chlorides volatile acidity</td>\n    </tr>\n    <tr>\n      <th>33</th>\n      <td>alcohol total sulfur dioxide</td>\n    </tr>\n    <tr>\n      <th>34</th>\n      <td>alcohol free sulfur dioxide</td>\n    </tr>\n    <tr>\n      <th>35</th>\n      <td>total sulfur dioxide volatile acidity</td>\n    </tr>\n    <tr>\n      <th>36</th>\n      <td>total sulfur dioxide citric acid</td>\n    </tr>\n    <tr>\n      <th>37</th>\n      <td>total sulfur dioxide free sulfur dioxide</td>\n    </tr>\n    <tr>\n      <th>38</th>\n      <td>volatile acidity^2</td>\n    </tr>\n    <tr>\n      <th>39</th>\n      <td>sulphates^2</td>\n    </tr>\n    <tr>\n      <th>40</th>\n      <td>sulphates free sulfur dioxide</td>\n    </tr>\n  </tbody>\n</table>\n</div>"
     },
     "execution_count": 448,
     "metadata": {},
     "output_type": "execute_result"
    }
   ],
   "source": [
    "pd.DataFrame([poly_reg.get_feature_names_out()[i] for i in set(range(X_train.shape[1])) - set(best_feats)])"
   ],
   "metadata": {
    "collapsed": false,
    "pycharm": {
     "name": "#%%\n"
    }
   }
  },
  {
   "cell_type": "markdown",
   "source": [
    "### Вопрос 4\n",
    "\n",
    "Лучшая модель была выбрана на шаге равном длине переменных, которые вошли в лучшую выборку"
   ],
   "metadata": {
    "collapsed": false
   }
  },
  {
   "cell_type": "code",
   "execution_count": 449,
   "outputs": [
    {
     "data": {
      "text/plain": "38"
     },
     "execution_count": 449,
     "metadata": {},
     "output_type": "execute_result"
    }
   ],
   "source": [
    "len(best_feats) + 1"
   ],
   "metadata": {
    "collapsed": false,
    "pycharm": {
     "name": "#%%\n"
    }
   }
  },
  {
   "cell_type": "markdown",
   "source": [
    "### Вопрос 5"
   ],
   "metadata": {
    "collapsed": false
   }
  },
  {
   "cell_type": "code",
   "execution_count": 450,
   "outputs": [
    {
     "data": {
      "text/plain": "<class 'statsmodels.iolib.summary.Summary'>\n\"\"\"\n                            OLS Regression Results                            \n==============================================================================\nDep. Variable:         target_quality   R-squared:                       0.291\nModel:                            OLS   Adj. R-squared:                  0.278\nMethod:                 Least Squares   F-statistic:                     21.94\nDate:                Fri, 22 Apr 2022   Prob (F-statistic):          2.85e-117\nTime:                        16:44:11   Log-Likelihood:                -1920.6\nNo. Observations:                1959   AIC:                             3915.\nDf Residuals:                    1922   BIC:                             4122.\nDf Model:                          36                                         \nCovariance Type:            nonrobust                                         \n==============================================================================\n                 coef    std err          t      P>|t|      [0.025      0.975]\n------------------------------------------------------------------------------\nx1           268.1371    146.453      1.831      0.067     -19.086     555.361\nx2            -0.0024      0.025     -0.095      0.925      -0.051       0.046\nx3            -6.4306      1.609     -3.997      0.000      -9.586      -3.276\nx4             0.3378      0.103      3.268      0.001       0.135       0.540\nx5             0.4942      0.137      3.620      0.000       0.226       0.762\nx6             1.0706      0.262      4.083      0.000       0.556       1.585\nx7           -98.2608    194.048     -0.506      0.613    -478.828     282.307\nx8            -0.0726      1.288     -0.056      0.955      -2.598       2.453\nx9             0.0285      0.030      0.942      0.347      -0.031       0.088\nx10            0.0289      0.013      2.289      0.022       0.004       0.054\nx11           -9.9591     17.700     -0.563      0.574     -44.672      24.754\nx12           -0.0461      0.033     -1.390      0.165      -0.111       0.019\nx13           13.5902     12.201      1.114      0.265     -10.339      37.519\nx14          -12.6728      5.640     -2.247      0.025     -23.733      -1.612\nx15           -1.0744      0.390     -2.758      0.006      -1.838      -0.310\nx16            0.4854      0.201      2.413      0.016       0.091       0.880\nx17           -0.2486      1.210     -0.206      0.837      -2.621       2.124\nx18           -0.0601      0.020     -2.947      0.003      -0.100      -0.020\nx19           10.2767      4.807      2.138      0.033       0.850      19.703\nx20           -0.8358      1.124     -0.743      0.457      -3.041       1.369\nx21           -0.0006      0.007     -0.078      0.938      -0.015       0.014\nx22           -0.2536      0.083     -3.064      0.002      -0.416      -0.091\nx23         -270.9407    146.642     -1.848      0.065    -558.535      16.654\nx24            9.8900     17.983      0.550      0.582     -25.378      45.158\nconst         96.5999    194.620      0.496      0.620    -285.089     478.289\nx25            0.0061      0.003      2.008      0.045       0.000       0.012\nx26        -1.585e-05   6.09e-06     -2.602      0.009   -2.78e-05    -3.9e-06\nx27           -0.0052      0.004     -1.172      0.241      -0.014       0.004\nx28            0.0869      0.203      0.429      0.668      -0.310       0.484\nx29           -0.0006      0.000     -2.298      0.022      -0.001   -8.14e-05\nx30            0.0209      0.008      2.717      0.007       0.006       0.036\nx31           -0.0002   3.31e-05     -4.565      0.000      -0.000   -8.63e-05\nx32            0.0054      0.002      3.353      0.001       0.002       0.009\nx33           -0.0029      0.010     -0.285      0.776      -0.023       0.017\nx34         6.746e-05      0.000      0.596      0.551      -0.000       0.000\nx35           -0.0243      0.036     -0.669      0.503      -0.096       0.047\nx36           -0.0903      0.058     -1.555      0.120      -0.204       0.024\n==============================================================================\nOmnibus:                      924.367   Durbin-Watson:                   2.003\nProb(Omnibus):                  0.000   Jarque-Bera (JB):            23143.224\nSkew:                          -1.665   Prob(JB):                         0.00\nKurtosis:                      19.506   Cond. No.                     4.78e+08\n==============================================================================\n\nNotes:\n[1] Standard Errors assume that the covariance matrix of the errors is correctly specified.\n[2] The condition number is large, 4.78e+08. This might indicate that there are\nstrong multicollinearity or other numerical problems.\n\"\"\"",
      "text/html": "<table class=\"simpletable\">\n<caption>OLS Regression Results</caption>\n<tr>\n  <th>Dep. Variable:</th>     <td>target_quality</td>  <th>  R-squared:         </th> <td>   0.291</td> \n</tr>\n<tr>\n  <th>Model:</th>                   <td>OLS</td>       <th>  Adj. R-squared:    </th> <td>   0.278</td> \n</tr>\n<tr>\n  <th>Method:</th>             <td>Least Squares</td>  <th>  F-statistic:       </th> <td>   21.94</td> \n</tr>\n<tr>\n  <th>Date:</th>             <td>Fri, 22 Apr 2022</td> <th>  Prob (F-statistic):</th> <td>2.85e-117</td>\n</tr>\n<tr>\n  <th>Time:</th>                 <td>16:44:11</td>     <th>  Log-Likelihood:    </th> <td> -1920.6</td> \n</tr>\n<tr>\n  <th>No. Observations:</th>      <td>  1959</td>      <th>  AIC:               </th> <td>   3915.</td> \n</tr>\n<tr>\n  <th>Df Residuals:</th>          <td>  1922</td>      <th>  BIC:               </th> <td>   4122.</td> \n</tr>\n<tr>\n  <th>Df Model:</th>              <td>    36</td>      <th>                     </th>     <td> </td>    \n</tr>\n<tr>\n  <th>Covariance Type:</th>      <td>nonrobust</td>    <th>                     </th>     <td> </td>    \n</tr>\n</table>\n<table class=\"simpletable\">\n<tr>\n    <td></td>       <th>coef</th>     <th>std err</th>      <th>t</th>      <th>P>|t|</th>  <th>[0.025</th>    <th>0.975]</th>  \n</tr>\n<tr>\n  <th>x1</th>    <td>  268.1371</td> <td>  146.453</td> <td>    1.831</td> <td> 0.067</td> <td>  -19.086</td> <td>  555.361</td>\n</tr>\n<tr>\n  <th>x2</th>    <td>   -0.0024</td> <td>    0.025</td> <td>   -0.095</td> <td> 0.925</td> <td>   -0.051</td> <td>    0.046</td>\n</tr>\n<tr>\n  <th>x3</th>    <td>   -6.4306</td> <td>    1.609</td> <td>   -3.997</td> <td> 0.000</td> <td>   -9.586</td> <td>   -3.276</td>\n</tr>\n<tr>\n  <th>x4</th>    <td>    0.3378</td> <td>    0.103</td> <td>    3.268</td> <td> 0.001</td> <td>    0.135</td> <td>    0.540</td>\n</tr>\n<tr>\n  <th>x5</th>    <td>    0.4942</td> <td>    0.137</td> <td>    3.620</td> <td> 0.000</td> <td>    0.226</td> <td>    0.762</td>\n</tr>\n<tr>\n  <th>x6</th>    <td>    1.0706</td> <td>    0.262</td> <td>    4.083</td> <td> 0.000</td> <td>    0.556</td> <td>    1.585</td>\n</tr>\n<tr>\n  <th>x7</th>    <td>  -98.2608</td> <td>  194.048</td> <td>   -0.506</td> <td> 0.613</td> <td> -478.828</td> <td>  282.307</td>\n</tr>\n<tr>\n  <th>x8</th>    <td>   -0.0726</td> <td>    1.288</td> <td>   -0.056</td> <td> 0.955</td> <td>   -2.598</td> <td>    2.453</td>\n</tr>\n<tr>\n  <th>x9</th>    <td>    0.0285</td> <td>    0.030</td> <td>    0.942</td> <td> 0.347</td> <td>   -0.031</td> <td>    0.088</td>\n</tr>\n<tr>\n  <th>x10</th>   <td>    0.0289</td> <td>    0.013</td> <td>    2.289</td> <td> 0.022</td> <td>    0.004</td> <td>    0.054</td>\n</tr>\n<tr>\n  <th>x11</th>   <td>   -9.9591</td> <td>   17.700</td> <td>   -0.563</td> <td> 0.574</td> <td>  -44.672</td> <td>   24.754</td>\n</tr>\n<tr>\n  <th>x12</th>   <td>   -0.0461</td> <td>    0.033</td> <td>   -1.390</td> <td> 0.165</td> <td>   -0.111</td> <td>    0.019</td>\n</tr>\n<tr>\n  <th>x13</th>   <td>   13.5902</td> <td>   12.201</td> <td>    1.114</td> <td> 0.265</td> <td>  -10.339</td> <td>   37.519</td>\n</tr>\n<tr>\n  <th>x14</th>   <td>  -12.6728</td> <td>    5.640</td> <td>   -2.247</td> <td> 0.025</td> <td>  -23.733</td> <td>   -1.612</td>\n</tr>\n<tr>\n  <th>x15</th>   <td>   -1.0744</td> <td>    0.390</td> <td>   -2.758</td> <td> 0.006</td> <td>   -1.838</td> <td>   -0.310</td>\n</tr>\n<tr>\n  <th>x16</th>   <td>    0.4854</td> <td>    0.201</td> <td>    2.413</td> <td> 0.016</td> <td>    0.091</td> <td>    0.880</td>\n</tr>\n<tr>\n  <th>x17</th>   <td>   -0.2486</td> <td>    1.210</td> <td>   -0.206</td> <td> 0.837</td> <td>   -2.621</td> <td>    2.124</td>\n</tr>\n<tr>\n  <th>x18</th>   <td>   -0.0601</td> <td>    0.020</td> <td>   -2.947</td> <td> 0.003</td> <td>   -0.100</td> <td>   -0.020</td>\n</tr>\n<tr>\n  <th>x19</th>   <td>   10.2767</td> <td>    4.807</td> <td>    2.138</td> <td> 0.033</td> <td>    0.850</td> <td>   19.703</td>\n</tr>\n<tr>\n  <th>x20</th>   <td>   -0.8358</td> <td>    1.124</td> <td>   -0.743</td> <td> 0.457</td> <td>   -3.041</td> <td>    1.369</td>\n</tr>\n<tr>\n  <th>x21</th>   <td>   -0.0006</td> <td>    0.007</td> <td>   -0.078</td> <td> 0.938</td> <td>   -0.015</td> <td>    0.014</td>\n</tr>\n<tr>\n  <th>x22</th>   <td>   -0.2536</td> <td>    0.083</td> <td>   -3.064</td> <td> 0.002</td> <td>   -0.416</td> <td>   -0.091</td>\n</tr>\n<tr>\n  <th>x23</th>   <td> -270.9407</td> <td>  146.642</td> <td>   -1.848</td> <td> 0.065</td> <td> -558.535</td> <td>   16.654</td>\n</tr>\n<tr>\n  <th>x24</th>   <td>    9.8900</td> <td>   17.983</td> <td>    0.550</td> <td> 0.582</td> <td>  -25.378</td> <td>   45.158</td>\n</tr>\n<tr>\n  <th>const</th> <td>   96.5999</td> <td>  194.620</td> <td>    0.496</td> <td> 0.620</td> <td> -285.089</td> <td>  478.289</td>\n</tr>\n<tr>\n  <th>x25</th>   <td>    0.0061</td> <td>    0.003</td> <td>    2.008</td> <td> 0.045</td> <td>    0.000</td> <td>    0.012</td>\n</tr>\n<tr>\n  <th>x26</th>   <td>-1.585e-05</td> <td> 6.09e-06</td> <td>   -2.602</td> <td> 0.009</td> <td>-2.78e-05</td> <td> -3.9e-06</td>\n</tr>\n<tr>\n  <th>x27</th>   <td>   -0.0052</td> <td>    0.004</td> <td>   -1.172</td> <td> 0.241</td> <td>   -0.014</td> <td>    0.004</td>\n</tr>\n<tr>\n  <th>x28</th>   <td>    0.0869</td> <td>    0.203</td> <td>    0.429</td> <td> 0.668</td> <td>   -0.310</td> <td>    0.484</td>\n</tr>\n<tr>\n  <th>x29</th>   <td>   -0.0006</td> <td>    0.000</td> <td>   -2.298</td> <td> 0.022</td> <td>   -0.001</td> <td>-8.14e-05</td>\n</tr>\n<tr>\n  <th>x30</th>   <td>    0.0209</td> <td>    0.008</td> <td>    2.717</td> <td> 0.007</td> <td>    0.006</td> <td>    0.036</td>\n</tr>\n<tr>\n  <th>x31</th>   <td>   -0.0002</td> <td> 3.31e-05</td> <td>   -4.565</td> <td> 0.000</td> <td>   -0.000</td> <td>-8.63e-05</td>\n</tr>\n<tr>\n  <th>x32</th>   <td>    0.0054</td> <td>    0.002</td> <td>    3.353</td> <td> 0.001</td> <td>    0.002</td> <td>    0.009</td>\n</tr>\n<tr>\n  <th>x33</th>   <td>   -0.0029</td> <td>    0.010</td> <td>   -0.285</td> <td> 0.776</td> <td>   -0.023</td> <td>    0.017</td>\n</tr>\n<tr>\n  <th>x34</th>   <td> 6.746e-05</td> <td>    0.000</td> <td>    0.596</td> <td> 0.551</td> <td>   -0.000</td> <td>    0.000</td>\n</tr>\n<tr>\n  <th>x35</th>   <td>   -0.0243</td> <td>    0.036</td> <td>   -0.669</td> <td> 0.503</td> <td>   -0.096</td> <td>    0.047</td>\n</tr>\n<tr>\n  <th>x36</th>   <td>   -0.0903</td> <td>    0.058</td> <td>   -1.555</td> <td> 0.120</td> <td>   -0.204</td> <td>    0.024</td>\n</tr>\n</table>\n<table class=\"simpletable\">\n<tr>\n  <th>Omnibus:</th>       <td>924.367</td> <th>  Durbin-Watson:     </th> <td>   2.003</td> \n</tr>\n<tr>\n  <th>Prob(Omnibus):</th> <td> 0.000</td>  <th>  Jarque-Bera (JB):  </th> <td>23143.224</td>\n</tr>\n<tr>\n  <th>Skew:</th>          <td>-1.665</td>  <th>  Prob(JB):          </th> <td>    0.00</td> \n</tr>\n<tr>\n  <th>Kurtosis:</th>      <td>19.506</td>  <th>  Cond. No.          </th> <td>4.78e+08</td> \n</tr>\n</table><br/><br/>Notes:<br/>[1] Standard Errors assume that the covariance matrix of the errors is correctly specified.<br/>[2] The condition number is large, 4.78e+08. This might indicate that there are<br/>strong multicollinearity or other numerical problems."
     },
     "execution_count": 450,
     "metadata": {},
     "output_type": "execute_result"
    }
   ],
   "source": [
    "model = sm.OLS(y_train, X_train[:, best_feats]).fit()\n",
    "model.summary()"
   ],
   "metadata": {
    "collapsed": false,
    "pycharm": {
     "name": "#%%\n"
    }
   }
  },
  {
   "cell_type": "code",
   "execution_count": 451,
   "outputs": [
    {
     "data": {
      "text/plain": "'volatile acidity sulphates'"
     },
     "execution_count": 451,
     "metadata": {},
     "output_type": "execute_result"
    }
   ],
   "source": [
    "i = np.argmin(np.abs(model.tvalues))\n",
    "poly_reg.get_feature_names_out()[best_feats[i]]"
   ],
   "metadata": {
    "collapsed": false,
    "pycharm": {
     "name": "#%%\n"
    }
   }
  },
  {
   "cell_type": "markdown",
   "source": [
    "### Вопрос 6"
   ],
   "metadata": {
    "collapsed": false
   }
  },
  {
   "cell_type": "code",
   "execution_count": 452,
   "outputs": [
    {
     "data": {
      "text/plain": "<Figure size 432x288 with 1 Axes>",
      "image/png": "[encoded data removed]"
     },
     "metadata": {
      "needs_background": "light"
     },
     "output_type": "display_data"
    },
    {
     "name": "stdout",
     "output_type": "stream",
     "text": [
      "LinearRegression\n",
      "TRAIN MSE: 0.420403\n",
      "VAL MSE: 0.411562\n",
      "TEST MSE: 0.417528\n"
     ]
    }
   ],
   "source": [
    "X_train, y_train, X_val, y_val, X_test, y_test = data_partition(X, y)\n",
    "\n",
    "scaler = MinMaxScaler()\n",
    "scaler.fit(X_train)\n",
    "for X_ in (X_train, X_val, X_test):\n",
    "    X_.values[:] = scaler.transform(X_)\n",
    "\n",
    "# Построим полиномиальную регрессию (degree = 2)\n",
    "# Отобразмим пространство признаков в пространство полиномов степени 2\n",
    "poly_reg = PolynomialFeatures(degree=2)\n",
    "X_train = poly_reg.fit_transform(X_train)\n",
    "X_val = poly_reg.transform(X_val)\n",
    "X_test = poly_reg.transform(X_test)\n",
    "\n",
    "# Forward feature selection\n",
    "best_feats = None\n",
    "remaining_feats = list(range(X_train.shape[1]))\n",
    "selected_features = []\n",
    "errs = []\n",
    "best_err = 1\n",
    "while len(selected_features) < X_train.shape[1]:\n",
    "\n",
    "    current_best_err = 1\n",
    "    current_best_features = []\n",
    "    selected_feature = None\n",
    "\n",
    "    for feature in remaining_feats:\n",
    "        tmp_feats = [feature, *selected_features]\n",
    "        err = get_model_err(tmp_feats, X_train, y_train, X_val, y_val)\n",
    "        if err < current_best_err:\n",
    "            selected_feature = feature\n",
    "            current_best_err = err\n",
    "            current_best_features = tmp_feats\n",
    "\n",
    "    errs.append(current_best_err)\n",
    "\n",
    "    if current_best_err < best_err:\n",
    "        best_err = current_best_err\n",
    "        best_feats = current_best_features\n",
    "\n",
    "    remaining_feats.remove(selected_feature)\n",
    "    selected_features.append(selected_feature)\n",
    "\n",
    "# Визуализируем ошибки\n",
    "idx = len(best_feats)\n",
    "plt.plot(errs)\n",
    "plt.plot(idx, errs[idx], 'P', ms=10, mfc='red')\n",
    "plt.xlabel(\"Номер итерации\")\n",
    "plt.ylabel(\"MSE\")\n",
    "plt.title(\"Ошибка при отборе признаков методом Backward\")\n",
    "plt.show()\n",
    "\n",
    "# Обучим линейную регрессию на лучших признаках\n",
    "lr = LinearRegression()\n",
    "lr.fit(X_train[:, best_feats], y_train)\n",
    "\n",
    "score_model_mae(lr,\n",
    "                X_train[:, best_feats], y_train,\n",
    "                X_val[:, best_feats], y_val,\n",
    "                X_test[:, best_feats], y_test)"
   ],
   "metadata": {
    "collapsed": false,
    "pycharm": {
     "name": "#%%\n"
    }
   }
  },
  {
   "cell_type": "code",
   "execution_count": 453,
   "outputs": [
    {
     "name": "stdout",
     "output_type": "stream",
     "text": [
      " Всего выбрано 29 переменных\n"
     ]
    }
   ],
   "source": [
    "print(f\" Всего выбрано {len(best_feats)} переменных\")"
   ],
   "metadata": {
    "collapsed": false,
    "pycharm": {
     "name": "#%%\n"
    }
   }
  },
  {
   "cell_type": "markdown",
   "source": [
    "## Часть 3: PLS/PCR"
   ],
   "metadata": {
    "id": "azYnRspns-Fg"
   }
  },
  {
   "cell_type": "code",
   "source": [
    "from sklearn.decomposition import PCA\n",
    "from sklearn.pipeline import make_pipeline\n",
    "from sklearn.cross_decomposition import PLSRegression\n",
    "from sklearn.model_selection import cross_val_predict\n",
    "\n",
    "X_train, y_train, X_val, y_val, X_test, y_test = data_partition(X, y)\n",
    "\n",
    "# Метод PCR представляем в виде комбинации PCA с последующей линейной регрессией\n",
    "pcr = make_pipeline(PCA(n_components=5), LinearRegression())\n",
    "pcr.fit(X_train, y_train)\n",
    "\n",
    "pls = PLSRegression(n_components=5)\n",
    "pls.fit(X_train, y_train)\n",
    "\n",
    "# MSE\n",
    "score_model_mae(pcr, X_train, y_train, X_val, y_val, X_test, y_test)\n",
    "score_model_mae(pls, X_train, y_train, X_val, y_val, X_test, y_test)"
   ],
   "metadata": {
    "colab": {
     "base_uri": "https://localhost:8080/"
    },
    "id": "cx4-rkJGtDEq",
    "outputId": "df1db5e7-92c7-4064-b5b1-6b331e6be177"
   },
   "execution_count": 454,
   "outputs": [
    {
     "name": "stdout",
     "output_type": "stream",
     "text": [
      "Pipeline\n",
      "TRAIN MSE: 0.477364\n",
      "VAL MSE: 0.496493\n",
      "TEST MSE: 0.471302\n",
      "PLSRegression\n",
      "TRAIN MSE: 0.441024\n",
      "VAL MSE: 0.464150\n",
      "TEST MSE: 0.445547\n"
     ]
    }
   ]
  },
  {
   "cell_type": "code",
   "source": [
    "# Необходимо определить лучшее количество компонент\n",
    "\n",
    "def optimise_comp_cv(X, y, n_comp, model_name):\n",
    "    if model_name == \"PCR\":\n",
    "        model = make_pipeline(PCA(n_components=n_comp), LinearRegression())\n",
    "    else:\n",
    "        model = PLSRegression(n_components=n_comp)\n",
    "\n",
    "    # Расчет ошибки на кросс-валидации\n",
    "    y_cv = cross_val_predict(model, X, y, cv=10)\n",
    "    mse = mean_squared_error(y, y_cv)\n",
    "    return mse\n",
    "\n",
    "# Визуализация MSE\n",
    "def plot_metrics(vals, ylabel, objective, xticks, model_name):\n",
    "    plt.plot(xticks, np.array(vals), '-v')\n",
    "    if objective=='min':\n",
    "        idx = np.argmin(vals)\n",
    "    else:\n",
    "        idx = np.argmax(vals)\n",
    "    plt.plot(xticks[idx], np.array(vals)[idx], 'P', ms=10, mfc='red')\n",
    "\n",
    "    plt.xlabel(f'Количество компонент {model_name}')\n",
    "    plt.xticks = xticks\n",
    "    plt.ylabel(ylabel)\n",
    "    plt.title(model_name)\n",
    "    plt.show()\n"
   ],
   "metadata": {
    "colab": {
     "base_uri": "https://localhost:8080/",
     "height": 295
    },
    "id": "4f-hRwUyTYVf",
    "outputId": "00756e97-c2ac-4be1-8f9d-9e043040110a"
   },
   "execution_count": 455,
   "outputs": []
  },
  {
   "cell_type": "markdown",
   "source": [
    "### Вопросы к части 3:\n",
    "\n",
    "1. Сколько компонент было выбрано для моделей PCR и PLS?\n",
    "2. Какое значение MSE модели показывают на тестовом наборе?"
   ],
   "metadata": {
    "id": "UP4cqhXmXkD3"
   }
  },
  {
   "cell_type": "markdown",
   "source": [
    "### Вопрос 1"
   ],
   "metadata": {
    "collapsed": false
   }
  },
  {
   "cell_type": "code",
   "execution_count": 456,
   "outputs": [
    {
     "data": {
      "text/plain": "<Figure size 432x288 with 1 Axes>",
      "image/png": "[encoded data removed]"
     },
     "metadata": {
      "needs_background": "light"
     },
     "output_type": "display_data"
    }
   ],
   "source": [
    "# PCR\n",
    "model_name = \"PCR\"\n",
    "X_tr_val = pd.concat([X_train, X_val])\n",
    "y_tr_val = pd.concat([y_train, y_val])\n",
    "mses = []\n",
    "list_components = list(range(1, X_tr_val.shape[1]+1))\n",
    "for n_comp in list_components:\n",
    "    mse = optimise_comp_cv(X_tr_val, y_tr_val, n_comp, model_name)\n",
    "    mses.append(mse)\n",
    "plot_metrics(mses, 'MSE', 'min', list_components, model_name)"
   ],
   "metadata": {
    "collapsed": false,
    "pycharm": {
     "name": "#%%\n"
    }
   }
  },
  {
   "cell_type": "markdown",
   "source": [
    "у PCR было выбрано 11 компонент"
   ],
   "metadata": {
    "collapsed": false
   }
  },
  {
   "cell_type": "code",
   "execution_count": 457,
   "outputs": [
    {
     "data": {
      "text/plain": "<Figure size 432x288 with 1 Axes>",
      "image/png": "[encoded data removed]"
     },
     "metadata": {
      "needs_background": "light"
     },
     "output_type": "display_data"
    }
   ],
   "source": [
    "# PCR\n",
    "model_name = \"PLS\"\n",
    "X_tr_val = pd.concat([X_train, X_val])\n",
    "y_tr_val = pd.concat([y_train, y_val])\n",
    "mses = []\n",
    "list_components = list(range(1, X_tr_val.shape[1]+1))\n",
    "for n_comp in list_components:\n",
    "    mse = optimise_comp_cv(X_tr_val, y_tr_val, n_comp, model_name)\n",
    "    mses.append(mse)\n",
    "plot_metrics(mses, 'MSE', 'min', list_components, model_name)"
   ],
   "metadata": {
    "collapsed": false,
    "pycharm": {
     "name": "#%%\n"
    }
   }
  },
  {
   "cell_type": "markdown",
   "source": [
    "у PLS Было выбрано 6 компонент"
   ],
   "metadata": {
    "collapsed": false
   }
  },
  {
   "cell_type": "markdown",
   "source": [
    "### Вопрос 2\n",
    "\n",
    "MSE на тестовом наборе\n",
    "* PCR: 0.443331\n",
    "* PLS: 0.443657"
   ],
   "metadata": {
    "collapsed": false
   }
  },
  {
   "cell_type": "code",
   "execution_count": 458,
   "outputs": [
    {
     "name": "stdout",
     "output_type": "stream",
     "text": [
      "Pipeline\n",
      "TRAIN MSE: 0.439391\n",
      "VAL MSE: 0.460599\n",
      "TEST MSE: 0.443331\n",
      "PLSRegression\n",
      "TRAIN MSE: 0.440691\n",
      "VAL MSE: 0.463392\n",
      "TEST MSE: 0.443657\n"
     ]
    }
   ],
   "source": [
    "pcr = make_pipeline(PCA(n_components=11), LinearRegression())\n",
    "pcr.fit(X_train, y_train)\n",
    "\n",
    "pls = PLSRegression(n_components=6)\n",
    "pls.fit(X_train, y_train)\n",
    "\n",
    "# MSE\n",
    "score_model_mae(pcr, X_train, y_train, X_val, y_val, X_test, y_test)\n",
    "score_model_mae(pls, X_train, y_train, X_val, y_val, X_test, y_test)"
   ],
   "metadata": {
    "collapsed": false,
    "pycharm": {
     "name": "#%%\n"
    }
   }
  },
  {
   "cell_type": "markdown",
   "source": [
    "## Часть 4: LARS + LASSO"
   ],
   "metadata": {
    "id": "hpWaP0wJSIUe"
   }
  },
  {
   "cell_type": "code",
   "source": [
    "# Документация LARS+LASSO\n",
    "# https://scikit-learn.org/stable/modules/generated/sklearn.linear_model.LassoLarsIC.html#sklearn.linear_model.LassoLarsIC\n",
    "\n",
    "from sklearn.linear_model import LassoLarsIC\n",
    "\n",
    "X_train, y_train, X_val, y_val, X_test, y_test = data_partition(X, y)\n",
    "\n",
    "X_tr_val = pd.concat([X_train, X_val])\n",
    "y_tr_val = pd.concat([y_train, y_val])\n",
    "reg = LassoLarsIC(criterion='aic', normalize=True, verbose=2)\n",
    "reg.fit(X_tr_val, y_tr_val)"
   ],
   "metadata": {
    "colab": {
     "base_uri": "https://localhost:8080/"
    },
    "id": "lKU6--y-SHl1",
    "outputId": "d47e7094-a70d-4879-8e69-a9269b219208"
   },
   "execution_count": 459,
   "outputs": [
    {
     "name": "stdout",
     "output_type": "stream",
     "text": [
      "Step\t\tAdded\t\tDropped\t\tActive set size\t\tC\n",
      "0\t\t5\t\t\t\t1\t\t17.569728750228663\n",
      "1\t\t7\t\t\t\t2\t\t9.618633467379896\n",
      "2\t\t10\t\t\t\t3\t\t3.5520972911045217\n",
      "3\t\t0\t\t\t\t4\t\t3.349870913584697\n",
      "4\t\t2\t\t\t\t5\t\t2.7785090618092916\n",
      "5\t\t8\t\t\t\t6\t\t2.6587468877370513\n",
      "6\t\t3\t\t\t\t7\t\t1.907938646769693\n",
      "7\t\t4\t\t\t\t8\t\t0.8146878973931837\n",
      "8\t\t6\t\t\t\t9\t\t0.8022904209848721\n",
      "9\t\t1\t\t\t\t10\t\t0.7493586561748633\n",
      "10\t\t\t\t[4]\t\t9\t\t[0.71637715]\n",
      "11\t\t\t\t[2]\t\t8\t\t[0.47700784]\n",
      "12\t\t2\t\t\t\t9\t\t0.24859048643367243\n",
      "13\t\t9\t\t\t\t10\t\t0.23274512829837699\n",
      "14\t\t4\t\t\t\t11\t\t0.12698830111492307\n"
     ]
    },
    {
     "data": {
      "text/plain": "LassoLarsIC(normalize=True, verbose=2)"
     },
     "execution_count": 459,
     "metadata": {},
     "output_type": "execute_result"
    }
   ]
  },
  {
   "cell_type": "code",
   "execution_count": 460,
   "outputs": [
    {
     "name": "stdout",
     "output_type": "stream",
     "text": [
      "LassoLarsIC\n",
      "TRAIN MSE: 0.440585\n",
      "VAL MSE: 0.456414\n",
      "TEST MSE: 0.438269\n"
     ]
    }
   ],
   "source": [
    "score_model_mae(reg, X_train, y_train, X_val, y_val, X_test, y_test)"
   ],
   "metadata": {
    "collapsed": false,
    "pycharm": {
     "name": "#%%\n"
    }
   }
  },
  {
   "cell_type": "markdown",
   "source": [
    "### Вопросы к части 4:\n",
    "\n",
    "1. Какое значение MSE модель показывает на тестовом наборе? \n",
    "2. Какая пременная была отобрана на первом шаге? \n",
    "3. Сколько всего переменных было отобрано?\n",
    "4. Если бы вместо критерия отбора модели вашего варианта использовался критерий MSE на валидационном наборе, то было бы отобрано больше или меньше переменных?"
   ],
   "metadata": {
    "id": "1XUiDGQOXN0U"
   }
  },
  {
   "cell_type": "markdown",
   "source": [
    "### Вопрос 1\n",
    "\n",
    "TEST MSE: 0.438269"
   ],
   "metadata": {
    "collapsed": false
   }
  },
  {
   "cell_type": "markdown",
   "source": [],
   "metadata": {
    "collapsed": false
   }
  },
  {
   "cell_type": "code",
   "execution_count": 467,
   "outputs": [
    {
     "data": {
      "text/plain": "'total sulfur dioxide'"
     },
     "execution_count": 467,
     "metadata": {},
     "output_type": "execute_result"
    }
   ],
   "source": [
    "reg.feature_names_in_[6]"
   ],
   "metadata": {
    "collapsed": false,
    "pycharm": {
     "name": "#%%\n"
    }
   }
  },
  {
   "cell_type": "markdown",
   "source": [
    "### Вопрос 3"
   ],
   "metadata": {
    "collapsed": false
   }
  },
  {
   "cell_type": "code",
   "execution_count": 468,
   "outputs": [
    {
     "data": {
      "text/plain": "11"
     },
     "execution_count": 468,
     "metadata": {},
     "output_type": "execute_result"
    }
   ],
   "source": [
    "reg.n_features_in_"
   ],
   "metadata": {
    "collapsed": false,
    "pycharm": {
     "name": "#%%\n"
    }
   }
  },
  {
   "cell_type": "markdown",
   "source": [
    "## Общие вопросы:\n",
    "\n",
    "1. Зачем при разделении выборкок проводится стратификация по целевой переменной?\n",
    "2. Какая модель показала лучшее значение MSE на тестовой выборке?"
   ],
   "metadata": {
    "id": "hpWqSD3xCNJQ"
   }
  },
  {
   "cell_type": "markdown",
   "source": [
    "### Вопрос 1\n",
    "\n",
    "Для более равномерного распределения данных на всех выборках"
   ],
   "metadata": {
    "collapsed": false
   }
  },
  {
   "cell_type": "markdown",
   "source": [
    "### Вопрос 2\n",
    "\n",
    "linear regression с полиномом степени 2; отбор признаков - Backwards"
   ],
   "metadata": {
    "collapsed": false
   }
  }
 ]
}