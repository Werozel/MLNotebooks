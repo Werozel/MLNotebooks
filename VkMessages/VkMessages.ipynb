{
 "nbformat": 4,
 "nbformat_minor": 0,
 "metadata": {
  "colab": {
   "name": "Copy of Копия блокнота \"VK messages classification (updated).ipynb\"\"",
   "provenance": [],
   "collapsed_sections": [
    "Po82BcaVovRV",
    "1hoRaLjCBZxC",
    "TaWwkvfP_DdT",
    "ehXKm0QM_GpB",
    "h9hDsmBU_J3o",
    "xvNvFT-__MaB",
    "aYIFYR-MDXy4",
    "uhykAT72vxdJ",
    "ehiF9Urvs-FM",
    "25MUla9BlqHw",
    "Er6nYk6-npRL",
    "X_aRpzHZoU1t",
    "YZfucJGHpWbg",
    "5BKAtEIcp8fj",
    "Yfc3iRXQqReD",
    "YKCfEORnqx8e",
    "_aV-01H7rEKq",
    "Sk6Fo13S83kV",
    "XKh3dg1RSNpO",
    "6iAy9r-3TZkc",
    "8z8Qk1ip32r7",
    "xfUMcFbhrjnM",
    "bH7wenbH0-9P",
    "JkDzWWYdRwT1",
    "aHZzDUTLTwsy",
    "MOmkRjn9T0KB",
    "2t-yIFwevDNS",
    "GGT5Khqwh7LY"
   ]
  },
  "kernelspec": {
   "name": "python3",
   "display_name": "Python 3"
  },
  "language_info": {
   "name": "python"
  }
 },
 "cells": [
  {
   "cell_type": "markdown",
   "metadata": {
    "id": "bDPI6TW3sZgt"
   },
   "source": [
    "# Dumb ML engineer's starter pack"
   ]
  },
  {
   "cell_type": "markdown",
   "source": [
    "Competition link: https://www.kaggle.com/c/classify-vk"
   ],
   "metadata": {
    "collapsed": false
   }
  },
  {
   "cell_type": "markdown",
   "metadata": {
    "id": "Po82BcaVovRV"
   },
   "source": [
    "## Imports"
   ]
  },
  {
   "cell_type": "code",
   "metadata": {
    "id": "HvnWl7vEovRZ"
   },
   "source": [
    "import warnings\n",
    "warnings.filterwarnings('ignore')"
   ],
   "execution_count": 9,
   "outputs": []
  },
  {
   "cell_type": "code",
   "metadata": {
    "id": "7Ye5Ma44ovRZ"
   },
   "source": [
    "from collections import Counter"
   ],
   "execution_count": 10,
   "outputs": []
  },
  {
   "cell_type": "code",
   "metadata": {
    "id": "R-IxUja1ovRZ"
   },
   "source": [
    "import matplotlib.pyplot as plt\n",
    "import numpy as np\n",
    "import pandas as pd"
   ],
   "execution_count": 11,
   "outputs": []
  },
  {
   "cell_type": "code",
   "metadata": {
    "id": "iNRVhjMKovRa"
   },
   "source": [
    "from random import seed\n",
    "\n",
    "RANDOM_STATE = 42\n",
    "RANDOM_SEED = 42\n",
    "\n",
    "seed(RANDOM_SEED)\n",
    "np.random.seed(RANDOM_SEED)"
   ],
   "execution_count": 12,
   "outputs": []
  },
  {
   "cell_type": "code",
   "metadata": {
    "id": "_4kNIVHiovRa"
   },
   "source": [
    "from sklearn.feature_extraction.text import CountVectorizer, TfidfVectorizer\n",
    "from sklearn.metrics import accuracy_score, precision_score, recall_score, f1_score, make_scorer\n",
    "from sklearn.model_selection import train_test_split\n",
    "\n",
    "from sklearn.neural_network import MLPClassifier"
   ],
   "execution_count": 13,
   "outputs": []
  },
  {
   "cell_type": "code",
   "execution_count": 14,
   "outputs": [],
   "source": [
    "import ssl\n",
    "\n",
    "try:\n",
    "    _create_unverified_https_context = ssl._create_unverified_context\n",
    "except AttributeError:\n",
    "    pass\n",
    "else:\n",
    "    ssl._create_default_https_context = _create_unverified_https_context"
   ],
   "metadata": {
    "collapsed": false,
    "pycharm": {
     "name": "#%%\n"
    }
   }
  },
  {
   "cell_type": "code",
   "metadata": {
    "colab": {
     "base_uri": "https://localhost:8080/"
    },
    "id": "CazCsNHRovRb",
    "outputId": "ff2a08e4-b286-4c76-9591-ec97d2c1b1fc"
   },
   "source": [
    "import nltk\n",
    "nltk.download('punkt')\n",
    "nltk.download('stopwords')\n",
    "\n",
    "from nltk.tokenize import word_tokenize\n",
    "\n",
    "from pymorphy2 import MorphAnalyzer\n",
    "morph = MorphAnalyzer()"
   ],
   "execution_count": 15,
   "outputs": [
    {
     "name": "stderr",
     "output_type": "stream",
     "text": [
      "[nltk_data] Downloading package punkt to\n",
      "[nltk_data]     C:\\Users\\Gleb\\AppData\\Roaming\\nltk_data...\n",
      "[nltk_data]   Package punkt is already up-to-date!\n",
      "[nltk_data] Downloading package stopwords to\n",
      "[nltk_data]     C:\\Users\\Gleb\\AppData\\Roaming\\nltk_data...\n",
      "[nltk_data]   Package stopwords is already up-to-date!\n"
     ]
    }
   ]
  },
  {
   "cell_type": "markdown",
   "metadata": {
    "id": "777imJ5f3mkU"
   },
   "source": [
    "## Data exploration & feature extraction"
   ]
  },
  {
   "cell_type": "markdown",
   "metadata": {
    "id": "1hoRaLjCBZxC"
   },
   "source": [
    "### Loading data"
   ]
  },
  {
   "cell_type": "code",
   "metadata": {
    "id": "YFtsOk4b2osX"
   },
   "source": [
    "df_train = pd.read_csv('csv/df_train.csv')\n",
    "X_train = df_train['message']\n",
    "y_train = df_train['class']"
   ],
   "execution_count": 16,
   "outputs": []
  },
  {
   "cell_type": "code",
   "metadata": {
    "id": "1Qcpux-E4cP-"
   },
   "source": [
    "df_test = pd.read_csv('csv/df_test.csv')\n",
    "X_test = df_test['message']"
   ],
   "execution_count": 17,
   "outputs": []
  },
  {
   "cell_type": "code",
   "metadata": {
    "colab": {
     "base_uri": "https://localhost:8080/"
    },
    "id": "scrEATaLr6_P",
    "outputId": "0cf984d4-6db4-4531-b78f-9efe3d869f75"
   },
   "source": [
    "X_test.head(20)"
   ],
   "execution_count": 18,
   "outputs": [
    {
     "data": {
      "text/plain": "0                                                Моожет\n1                        Ребят, спасибо за поздравление\n2                                               мне нет\n3                         в локальном минимуме застряла\n4                      У меня 19 определений = 19 цифр?\n5                                           (инфопоиск)\n6     Они бы ещё написали, что время вывешивания выв...\n7                                                  Окей\n8                                              for free\n9                 правильнее будет скинуть это вот сюда\n10                                      (это не вопрос)\n11       Нет\\nОн просто иногда забывал\\nОн записывал их\n12                                      Завтра по идее?\n13                                        понял, пасибо\n14                                 Так что пофиг, думаю\n15                                         Я выше писал\n16    Наверное, круто делать изменения в расписании[...\n17                                  в общем хочу теле2)\n18                          Письменный или как сегодня?\n19    Те, кто в первой группе - подумайте, кто сможе...\nName: message, dtype: object"
     },
     "execution_count": 18,
     "metadata": {},
     "output_type": "execute_result"
    }
   ]
  },
  {
   "cell_type": "code",
   "metadata": {
    "colab": {
     "base_uri": "https://localhost:8080/"
    },
    "id": "_i9I5pyGxKqq",
    "outputId": "61e23a6f-3802-4a5e-ae31-8d484096a533"
   },
   "source": [
    "df_train.head(5)"
   ],
   "execution_count": 19,
   "outputs": [
    {
     "data": {
      "text/plain": "                                             message  class\n0  На сайте написано, что баллы больше 4 в сумме ...      1\n1                                7 + (87-64) по идее      6\n2  3 газеты - 25.09, 23.10, 27.11 - 2 статьи поли...     11\n3                                      что за сайт?)      6\n4  я еще писал, что выбирал самое похожее слово, ...      7",
      "text/html": "<div>\n<style scoped>\n    .dataframe tbody tr th:only-of-type {\n        vertical-align: middle;\n    }\n\n    .dataframe tbody tr th {\n        vertical-align: top;\n    }\n\n    .dataframe thead th {\n        text-align: right;\n    }\n</style>\n<table border=\"1\" class=\"dataframe\">\n  <thead>\n    <tr style=\"text-align: right;\">\n      <th></th>\n      <th>message</th>\n      <th>class</th>\n    </tr>\n  </thead>\n  <tbody>\n    <tr>\n      <th>0</th>\n      <td>На сайте написано, что баллы больше 4 в сумме ...</td>\n      <td>1</td>\n    </tr>\n    <tr>\n      <th>1</th>\n      <td>7 + (87-64) по идее</td>\n      <td>6</td>\n    </tr>\n    <tr>\n      <th>2</th>\n      <td>3 газеты - 25.09, 23.10, 27.11 - 2 статьи поли...</td>\n      <td>11</td>\n    </tr>\n    <tr>\n      <th>3</th>\n      <td>что за сайт?)</td>\n      <td>6</td>\n    </tr>\n    <tr>\n      <th>4</th>\n      <td>я еще писал, что выбирал самое похожее слово, ...</td>\n      <td>7</td>\n    </tr>\n  </tbody>\n</table>\n</div>"
     },
     "execution_count": 19,
     "metadata": {},
     "output_type": "execute_result"
    }
   ]
  },
  {
   "cell_type": "code",
   "metadata": {
    "colab": {
     "base_uri": "https://localhost:8080/"
    },
    "id": "j0h7EXxVxK8C",
    "outputId": "c3b3ff89-a4d0-40a5-fde2-0a0f2e1b5a30"
   },
   "source": [
    "X_train.shape"
   ],
   "execution_count": 20,
   "outputs": [
    {
     "data": {
      "text/plain": "(2779,)"
     },
     "execution_count": 20,
     "metadata": {},
     "output_type": "execute_result"
    }
   ]
  },
  {
   "cell_type": "code",
   "metadata": {
    "colab": {
     "base_uri": "https://localhost:8080/"
    },
    "id": "PF7OLPzf36FD",
    "outputId": "f2da4260-d590-4f15-fe58-a56b3d680f05"
   },
   "source": [
    "df_test.head(5)"
   ],
   "execution_count": 21,
   "outputs": [
    {
     "data": {
      "text/plain": "                            message\n0                            Моожет\n1    Ребят, спасибо за поздравление\n2                           мне нет\n3     в локальном минимуме застряла\n4  У меня 19 определений = 19 цифр?",
      "text/html": "<div>\n<style scoped>\n    .dataframe tbody tr th:only-of-type {\n        vertical-align: middle;\n    }\n\n    .dataframe tbody tr th {\n        vertical-align: top;\n    }\n\n    .dataframe thead th {\n        text-align: right;\n    }\n</style>\n<table border=\"1\" class=\"dataframe\">\n  <thead>\n    <tr style=\"text-align: right;\">\n      <th></th>\n      <th>message</th>\n    </tr>\n  </thead>\n  <tbody>\n    <tr>\n      <th>0</th>\n      <td>Моожет</td>\n    </tr>\n    <tr>\n      <th>1</th>\n      <td>Ребят, спасибо за поздравление</td>\n    </tr>\n    <tr>\n      <th>2</th>\n      <td>мне нет</td>\n    </tr>\n    <tr>\n      <th>3</th>\n      <td>в локальном минимуме застряла</td>\n    </tr>\n    <tr>\n      <th>4</th>\n      <td>У меня 19 определений = 19 цифр?</td>\n    </tr>\n  </tbody>\n</table>\n</div>"
     },
     "execution_count": 21,
     "metadata": {},
     "output_type": "execute_result"
    }
   ]
  },
  {
   "cell_type": "code",
   "metadata": {
    "colab": {
     "base_uri": "https://localhost:8080/"
    },
    "id": "825D_F-C4X0I",
    "outputId": "f29bc4b4-78c2-4651-f332-df9eb0d61bef"
   },
   "source": [
    "X_test.shape"
   ],
   "execution_count": 22,
   "outputs": [
    {
     "data": {
      "text/plain": "(309,)"
     },
     "execution_count": 22,
     "metadata": {},
     "output_type": "execute_result"
    }
   ]
  },
  {
   "cell_type": "code",
   "metadata": {
    "colab": {
     "base_uri": "https://localhost:8080/"
    },
    "id": "R4GtsMBCywVa",
    "outputId": "05ce82c6-11e5-40b8-eb89-a6597186f5eb"
   },
   "source": [
    "y_train.value_counts()"
   ],
   "execution_count": 23,
   "outputs": [
    {
     "data": {
      "text/plain": "2     428\n0     381\n6     279\n1     270\n5     268\n7     216\n8     210\n4     145\n12    138\n11    136\n10    118\n3     106\n9      84\nName: class, dtype: int64"
     },
     "execution_count": 23,
     "metadata": {},
     "output_type": "execute_result"
    }
   ]
  },
  {
   "cell_type": "code",
   "metadata": {
    "colab": {
     "base_uri": "https://localhost:8080/"
    },
    "id": "xlHSNu5iyiei",
    "outputId": "ae7cdc8e-23a3-4159-ab98-93cbbb310142"
   },
   "source": [
    "cnts = y_train.value_counts()\n",
    "plt.rcParams['font.size'] = 14\n",
    "plt.figure(figsize=(10, 8))\n",
    "plt.pie(cnts, labels=cnts.index, counterclock=False, startangle=90);"
   ],
   "execution_count": 24,
   "outputs": [
    {
     "data": {
      "text/plain": "<Figure size 720x576 with 1 Axes>",
      "image/png": "[encoded data removed]"
     },
     "metadata": {},
     "output_type": "display_data"
    }
   ]
  },
  {
   "cell_type": "markdown",
   "metadata": {
    "id": "8G8coxsfhrQU"
   },
   "source": [
    "### Custom features"
   ]
  },
  {
   "cell_type": "code",
   "metadata": {
    "id": "EERD14golAmf"
   },
   "source": [
    "def hasCapitalisedWords(msg):\n",
    "  words = msg.split()\n",
    "  if len(words) == 0:\n",
    "    return 0\n",
    "  return int(words[0][0].isupper())\n",
    "\n",
    "\n",
    "def countSimpleSmiles(msg):\n",
    "  stack = 0\n",
    "  for letter in msg:\n",
    "    if letter == '(':\n",
    "      stack -= 1\n",
    "    elif letter == ')':\n",
    "      stack += 1\n",
    "  return stack\n",
    "\n",
    "PUNCTUATION = '.,'\n",
    "def hasPunctuation(msg):\n",
    "  c = msg.count(\" - \")\n",
    "  for letter in msg:\n",
    "    if letter in PUNCTUATION:\n",
    "      c += 1\n",
    "  return c\n",
    "\n",
    "def hasExclamations(msg):\n",
    "  return msg.count('!')\n",
    "\n",
    "def onlySigns(msg):\n",
    "  return int(not any(map(lambda x: x.isalpha(), msg)))\n",
    "\n",
    "def hasCaps(msg):\n",
    "  for word in msg.split():\n",
    "    if word.isupper():\n",
    "      return 1\n",
    "  return 0\n",
    "\n",
    "RUSSIAN_ALPHABET = 'абвгдеёжзийклмнопрстуфхцчшщъыьэюя'\n",
    "def onlyEnglish(msg):\n",
    "  for letter in msg:\n",
    "    if letter in RUSSIAN_ALPHABET:\n",
    "      return 0\n",
    "  only_signs = onlySigns(msg)\n",
    "  return 1 if not only_signs else 0\n",
    "\n",
    "def verbGender(msg):\n",
    "  gender_c = 0\n",
    "  for word in msg.split():\n",
    "    parsed_arr = morph.parse(word)\n",
    "    if len(parsed_arr) == 0:\n",
    "      continue\n",
    "    parsed = parsed_arr[0]\n",
    "    if parsed.tag.POS not in [\"INFN\", \"VERB\"]:\n",
    "      continue\n",
    "    gender = parsed.tag.gender\n",
    "    if gender == \"masc\":\n",
    "      gender_c += 1\n",
    "    elif gender == \"femn\":\n",
    "      gender_c -= 1\n",
    "  return gender_c\n",
    "\n",
    "\n",
    "def hasDottedSignes(msg):\n",
    "  return msg.count(\":)\") + msg.count(\":(\")\n",
    "\n",
    "\n",
    "def hasTrippleDots(msg):\n",
    "  return msg.count(\"...\")\n",
    "\n",
    "\n",
    "def hasObscureWords(msg):\n",
    "  words = msg.split()\n",
    "  c = 0\n",
    "  for word in words:\n",
    "    if word.isalpha() and morph.parse(word)[0].tag.POS is None:\n",
    "      c += 1\n",
    "  return c\n",
    "\n",
    "def usesAtSigns(msg):\n",
    "  return msg.count('@')"
   ],
   "execution_count": 25,
   "outputs": []
  },
  {
   "cell_type": "code",
   "metadata": {
    "id": "mETgEv3Oht3r"
   },
   "source": [
    "# Несколько раз менял признаки, не помню какие помогли получить лучший результат\n",
    "custom_train = pd.DataFrame.from_dict({\n",
    "    'CharLength': X_train.apply(len),\n",
    "    'UsesCapital': X_train.apply(hasCapitalisedWords),\n",
    "    'SimpleSmilesCount': X_train.apply(countSimpleSmiles),\n",
    "    'UsesPunctuation': X_train.apply(hasPunctuation),\n",
    "    'LineLength': X_train.apply(lambda msg: msg.count('\\n') + 1),\n",
    "    'WordsCount': X_train.apply(lambda msg: len(msg.split())),\n",
    "    'HasExclamations': X_train.apply(hasExclamations),\n",
    "    'HasCaps': X_train.apply(hasCaps),\n",
    "    'VerbGender': X_train.apply(verbGender),\n",
    "    'HasDottedSignes': X_train.apply(hasDottedSignes),\n",
    "    'HasTrippleDots': X_train.apply(hasTrippleDots),\n",
    "    'UsesAtSigns': X_train.apply(usesAtSigns)\n",
    "})"
   ],
   "execution_count": 26,
   "outputs": []
  },
  {
   "cell_type": "code",
   "metadata": {
    "id": "TqgJwU7snXLC"
   },
   "source": [
    "custom_test = pd.DataFrame.from_dict({\n",
    "    'CharLength': X_test.apply(len),\n",
    "    'UsesCapital': X_test.apply(hasCapitalisedWords),\n",
    "    'SimpleSmilesCount': X_test.apply(countSimpleSmiles),\n",
    "    'UsesPunctuation': X_test.apply(hasPunctuation),\n",
    "    'LineLength': X_test.apply(lambda msg: msg.count('\\n') + 1),\n",
    "    'WordsCount': X_test.apply(lambda msg: len(msg.split())),\n",
    "    'HasExclamations': X_test.apply(hasExclamations),\n",
    "    'HasCaps': X_test.apply(hasCaps),\n",
    "    'VerbGender': X_test.apply(verbGender),\n",
    "    'HasDottedSignes': X_test.apply(hasDottedSignes),\n",
    "    'HasTrippleDots': X_test.apply(hasTrippleDots),\n",
    "    'UsesAtSigns': X_test.apply(usesAtSigns)\n",
    "})"
   ],
   "execution_count": 27,
   "outputs": []
  },
  {
   "cell_type": "code",
   "metadata": {
    "colab": {
     "base_uri": "https://localhost:8080/"
    },
    "id": "IZINtnpjneHG",
    "outputId": "3ac0fa21-f900-41b6-e560-fd225cd8d746"
   },
   "source": [
    "custom_train.head(10)"
   ],
   "execution_count": 28,
   "outputs": [
    {
     "data": {
      "text/plain": "   CharLength  UsesCapital  SimpleSmilesCount  UsesPunctuation  LineLength  \\\n0          62            1                  0                1           1   \n1          19            0                  0                0           1   \n2          70            0                  0                7           1   \n3          13            0                  1                0           1   \n4          61            0                  0                2           1   \n5           8            0                  0                0           1   \n6          37            0                  0                0           1   \n7          81            1                  0                2           1   \n8          16            0                  1                0           1   \n9          21            1                  0                0           1   \n\n   WordsCount  HasExclamations  HasCaps  VerbGender  HasDottedSignes  \\\n0          12                0        0           0                0   \n1           5                0        0           0                0   \n2          12                0        0           0                0   \n3           3                0        0           0                0   \n4          10                0        0           1                0   \n5           1                0        0           0                0   \n6           6                0        0           0                0   \n7          13                0        0           1                0   \n8           3                0        0           0                0   \n9           3                0        0           0                0   \n\n   HasTrippleDots  UsesAtSigns  \n0               0            0  \n1               0            0  \n2               0            0  \n3               0            0  \n4               0            0  \n5               0            0  \n6               0            0  \n7               0            0  \n8               0            0  \n9               0            0  ",
      "text/html": "<div>\n<style scoped>\n    .dataframe tbody tr th:only-of-type {\n        vertical-align: middle;\n    }\n\n    .dataframe tbody tr th {\n        vertical-align: top;\n    }\n\n    .dataframe thead th {\n        text-align: right;\n    }\n</style>\n<table border=\"1\" class=\"dataframe\">\n  <thead>\n    <tr style=\"text-align: right;\">\n      <th></th>\n      <th>CharLength</th>\n      <th>UsesCapital</th>\n      <th>SimpleSmilesCount</th>\n      <th>UsesPunctuation</th>\n      <th>LineLength</th>\n      <th>WordsCount</th>\n      <th>HasExclamations</th>\n      <th>HasCaps</th>\n      <th>VerbGender</th>\n      <th>HasDottedSignes</th>\n      <th>HasTrippleDots</th>\n      <th>UsesAtSigns</th>\n    </tr>\n  </thead>\n  <tbody>\n    <tr>\n      <th>0</th>\n      <td>62</td>\n      <td>1</td>\n      <td>0</td>\n      <td>1</td>\n      <td>1</td>\n      <td>12</td>\n      <td>0</td>\n      <td>0</td>\n      <td>0</td>\n      <td>0</td>\n      <td>0</td>\n      <td>0</td>\n    </tr>\n    <tr>\n      <th>1</th>\n      <td>19</td>\n      <td>0</td>\n      <td>0</td>\n      <td>0</td>\n      <td>1</td>\n      <td>5</td>\n      <td>0</td>\n      <td>0</td>\n      <td>0</td>\n      <td>0</td>\n      <td>0</td>\n      <td>0</td>\n    </tr>\n    <tr>\n      <th>2</th>\n      <td>70</td>\n      <td>0</td>\n      <td>0</td>\n      <td>7</td>\n      <td>1</td>\n      <td>12</td>\n      <td>0</td>\n      <td>0</td>\n      <td>0</td>\n      <td>0</td>\n      <td>0</td>\n      <td>0</td>\n    </tr>\n    <tr>\n      <th>3</th>\n      <td>13</td>\n      <td>0</td>\n      <td>1</td>\n      <td>0</td>\n      <td>1</td>\n      <td>3</td>\n      <td>0</td>\n      <td>0</td>\n      <td>0</td>\n      <td>0</td>\n      <td>0</td>\n      <td>0</td>\n    </tr>\n    <tr>\n      <th>4</th>\n      <td>61</td>\n      <td>0</td>\n      <td>0</td>\n      <td>2</td>\n      <td>1</td>\n      <td>10</td>\n      <td>0</td>\n      <td>0</td>\n      <td>1</td>\n      <td>0</td>\n      <td>0</td>\n      <td>0</td>\n    </tr>\n    <tr>\n      <th>5</th>\n      <td>8</td>\n      <td>0</td>\n      <td>0</td>\n      <td>0</td>\n      <td>1</td>\n      <td>1</td>\n      <td>0</td>\n      <td>0</td>\n      <td>0</td>\n      <td>0</td>\n      <td>0</td>\n      <td>0</td>\n    </tr>\n    <tr>\n      <th>6</th>\n      <td>37</td>\n      <td>0</td>\n      <td>0</td>\n      <td>0</td>\n      <td>1</td>\n      <td>6</td>\n      <td>0</td>\n      <td>0</td>\n      <td>0</td>\n      <td>0</td>\n      <td>0</td>\n      <td>0</td>\n    </tr>\n    <tr>\n      <th>7</th>\n      <td>81</td>\n      <td>1</td>\n      <td>0</td>\n      <td>2</td>\n      <td>1</td>\n      <td>13</td>\n      <td>0</td>\n      <td>0</td>\n      <td>1</td>\n      <td>0</td>\n      <td>0</td>\n      <td>0</td>\n    </tr>\n    <tr>\n      <th>8</th>\n      <td>16</td>\n      <td>0</td>\n      <td>1</td>\n      <td>0</td>\n      <td>1</td>\n      <td>3</td>\n      <td>0</td>\n      <td>0</td>\n      <td>0</td>\n      <td>0</td>\n      <td>0</td>\n      <td>0</td>\n    </tr>\n    <tr>\n      <th>9</th>\n      <td>21</td>\n      <td>1</td>\n      <td>0</td>\n      <td>0</td>\n      <td>1</td>\n      <td>3</td>\n      <td>0</td>\n      <td>0</td>\n      <td>0</td>\n      <td>0</td>\n      <td>0</td>\n      <td>0</td>\n    </tr>\n  </tbody>\n</table>\n</div>"
     },
     "execution_count": 28,
     "metadata": {},
     "output_type": "execute_result"
    }
   ]
  },
  {
   "cell_type": "code",
   "metadata": {
    "colab": {
     "base_uri": "https://localhost:8080/"
    },
    "id": "i-Z4nqV7oE52",
    "outputId": "98660c80-1933-4ed4-e672-0e4950657ec9"
   },
   "source": [
    "pd.concat([custom_train, y_train], axis=1).corr()"
   ],
   "execution_count": 29,
   "outputs": [
    {
     "data": {
      "text/plain": "                   CharLength  UsesCapital  SimpleSmilesCount  \\\nCharLength           1.000000     0.034076          -0.015409   \nUsesCapital          0.034076     1.000000           0.024375   \nSimpleSmilesCount   -0.015409     0.024375           1.000000   \nUsesPunctuation      0.675939     0.004277          -0.007384   \nLineLength           0.423435     0.028403          -0.011661   \nWordsCount           0.978204     0.033563          -0.021550   \nHasExclamations      0.114661     0.027210          -0.011668   \nHasCaps              0.134139     0.290150          -0.009855   \nVerbGender           0.111063    -0.007053           0.009698   \nHasDottedSignes     -0.008343    -0.028509           0.101619   \nHasTrippleDots       0.096125    -0.008792          -0.012422   \nUsesAtSigns         -0.016326    -0.056171           0.016871   \nclass               -0.027216    -0.043899          -0.039865   \n\n                   UsesPunctuation  LineLength  WordsCount  HasExclamations  \\\nCharLength                0.675939    0.423435    0.978204         0.114661   \nUsesCapital               0.004277    0.028403    0.033563         0.027210   \nSimpleSmilesCount        -0.007384   -0.011661   -0.021550        -0.011668   \nUsesPunctuation           1.000000    0.292477    0.660155         0.042793   \nLineLength                0.292477    1.000000    0.422770         0.285879   \nWordsCount                0.660155    0.422770    1.000000         0.097986   \nHasExclamations           0.042793    0.285879    0.097986         1.000000   \nHasCaps                   0.033580    0.091047    0.179405         0.012540   \nVerbGender                0.061098    0.015677    0.120374        -0.014815   \nHasDottedSignes           0.006921   -0.007761   -0.008512        -0.003570   \nHasTrippleDots            0.331998    0.115084    0.090144         0.035199   \nUsesAtSigns              -0.004228    0.018876   -0.022990        -0.005928   \nclass                    -0.045021   -0.027127   -0.026725        -0.010973   \n\n                    HasCaps  VerbGender  HasDottedSignes  HasTrippleDots  \\\nCharLength         0.134139    0.111063        -0.008343        0.096125   \nUsesCapital        0.290150   -0.007053        -0.028509       -0.008792   \nSimpleSmilesCount -0.009855    0.009698         0.101619       -0.012422   \nUsesPunctuation    0.033580    0.061098         0.006921        0.331998   \nLineLength         0.091047    0.015677        -0.007761        0.115084   \nWordsCount         0.179405    0.120374        -0.008512        0.090144   \nHasExclamations    0.012540   -0.014815        -0.003570        0.035199   \nHasCaps            1.000000   -0.008859        -0.017151        0.002360   \nVerbGender        -0.008859    1.000000        -0.005981        0.023964   \nHasDottedSignes   -0.017151   -0.005981         1.000000       -0.003699   \nHasTrippleDots     0.002360    0.023964        -0.003699        1.000000   \nUsesAtSigns       -0.013203    0.006256        -0.002393       -0.006142   \nclass              0.039042   -0.036652         0.043703       -0.005889   \n\n                   UsesAtSigns     class  \nCharLength           -0.016326 -0.027216  \nUsesCapital          -0.056171 -0.043899  \nSimpleSmilesCount     0.016871 -0.039865  \nUsesPunctuation      -0.004228 -0.045021  \nLineLength            0.018876 -0.027127  \nWordsCount           -0.022990 -0.026725  \nHasExclamations      -0.005928 -0.010973  \nHasCaps              -0.013203  0.039042  \nVerbGender            0.006256 -0.036652  \nHasDottedSignes      -0.002393  0.043703  \nHasTrippleDots       -0.006142 -0.005889  \nUsesAtSigns           1.000000 -0.040318  \nclass                -0.040318  1.000000  ",
      "text/html": "<div>\n<style scoped>\n    .dataframe tbody tr th:only-of-type {\n        vertical-align: middle;\n    }\n\n    .dataframe tbody tr th {\n        vertical-align: top;\n    }\n\n    .dataframe thead th {\n        text-align: right;\n    }\n</style>\n<table border=\"1\" class=\"dataframe\">\n  <thead>\n    <tr style=\"text-align: right;\">\n      <th></th>\n      <th>CharLength</th>\n      <th>UsesCapital</th>\n      <th>SimpleSmilesCount</th>\n      <th>UsesPunctuation</th>\n      <th>LineLength</th>\n      <th>WordsCount</th>\n      <th>HasExclamations</th>\n      <th>HasCaps</th>\n      <th>VerbGender</th>\n      <th>HasDottedSignes</th>\n      <th>HasTrippleDots</th>\n      <th>UsesAtSigns</th>\n      <th>class</th>\n    </tr>\n  </thead>\n  <tbody>\n    <tr>\n      <th>CharLength</th>\n      <td>1.000000</td>\n      <td>0.034076</td>\n      <td>-0.015409</td>\n      <td>0.675939</td>\n      <td>0.423435</td>\n      <td>0.978204</td>\n      <td>0.114661</td>\n      <td>0.134139</td>\n      <td>0.111063</td>\n      <td>-0.008343</td>\n      <td>0.096125</td>\n      <td>-0.016326</td>\n      <td>-0.027216</td>\n    </tr>\n    <tr>\n      <th>UsesCapital</th>\n      <td>0.034076</td>\n      <td>1.000000</td>\n      <td>0.024375</td>\n      <td>0.004277</td>\n      <td>0.028403</td>\n      <td>0.033563</td>\n      <td>0.027210</td>\n      <td>0.290150</td>\n      <td>-0.007053</td>\n      <td>-0.028509</td>\n      <td>-0.008792</td>\n      <td>-0.056171</td>\n      <td>-0.043899</td>\n    </tr>\n    <tr>\n      <th>SimpleSmilesCount</th>\n      <td>-0.015409</td>\n      <td>0.024375</td>\n      <td>1.000000</td>\n      <td>-0.007384</td>\n      <td>-0.011661</td>\n      <td>-0.021550</td>\n      <td>-0.011668</td>\n      <td>-0.009855</td>\n      <td>0.009698</td>\n      <td>0.101619</td>\n      <td>-0.012422</td>\n      <td>0.016871</td>\n      <td>-0.039865</td>\n    </tr>\n    <tr>\n      <th>UsesPunctuation</th>\n      <td>0.675939</td>\n      <td>0.004277</td>\n      <td>-0.007384</td>\n      <td>1.000000</td>\n      <td>0.292477</td>\n      <td>0.660155</td>\n      <td>0.042793</td>\n      <td>0.033580</td>\n      <td>0.061098</td>\n      <td>0.006921</td>\n      <td>0.331998</td>\n      <td>-0.004228</td>\n      <td>-0.045021</td>\n    </tr>\n    <tr>\n      <th>LineLength</th>\n      <td>0.423435</td>\n      <td>0.028403</td>\n      <td>-0.011661</td>\n      <td>0.292477</td>\n      <td>1.000000</td>\n      <td>0.422770</td>\n      <td>0.285879</td>\n      <td>0.091047</td>\n      <td>0.015677</td>\n      <td>-0.007761</td>\n      <td>0.115084</td>\n      <td>0.018876</td>\n      <td>-0.027127</td>\n    </tr>\n    <tr>\n      <th>WordsCount</th>\n      <td>0.978204</td>\n      <td>0.033563</td>\n      <td>-0.021550</td>\n      <td>0.660155</td>\n      <td>0.422770</td>\n      <td>1.000000</td>\n      <td>0.097986</td>\n      <td>0.179405</td>\n      <td>0.120374</td>\n      <td>-0.008512</td>\n      <td>0.090144</td>\n      <td>-0.022990</td>\n      <td>-0.026725</td>\n    </tr>\n    <tr>\n      <th>HasExclamations</th>\n      <td>0.114661</td>\n      <td>0.027210</td>\n      <td>-0.011668</td>\n      <td>0.042793</td>\n      <td>0.285879</td>\n      <td>0.097986</td>\n      <td>1.000000</td>\n      <td>0.012540</td>\n      <td>-0.014815</td>\n      <td>-0.003570</td>\n      <td>0.035199</td>\n      <td>-0.005928</td>\n      <td>-0.010973</td>\n    </tr>\n    <tr>\n      <th>HasCaps</th>\n      <td>0.134139</td>\n      <td>0.290150</td>\n      <td>-0.009855</td>\n      <td>0.033580</td>\n      <td>0.091047</td>\n      <td>0.179405</td>\n      <td>0.012540</td>\n      <td>1.000000</td>\n      <td>-0.008859</td>\n      <td>-0.017151</td>\n      <td>0.002360</td>\n      <td>-0.013203</td>\n      <td>0.039042</td>\n    </tr>\n    <tr>\n      <th>VerbGender</th>\n      <td>0.111063</td>\n      <td>-0.007053</td>\n      <td>0.009698</td>\n      <td>0.061098</td>\n      <td>0.015677</td>\n      <td>0.120374</td>\n      <td>-0.014815</td>\n      <td>-0.008859</td>\n      <td>1.000000</td>\n      <td>-0.005981</td>\n      <td>0.023964</td>\n      <td>0.006256</td>\n      <td>-0.036652</td>\n    </tr>\n    <tr>\n      <th>HasDottedSignes</th>\n      <td>-0.008343</td>\n      <td>-0.028509</td>\n      <td>0.101619</td>\n      <td>0.006921</td>\n      <td>-0.007761</td>\n      <td>-0.008512</td>\n      <td>-0.003570</td>\n      <td>-0.017151</td>\n      <td>-0.005981</td>\n      <td>1.000000</td>\n      <td>-0.003699</td>\n      <td>-0.002393</td>\n      <td>0.043703</td>\n    </tr>\n    <tr>\n      <th>HasTrippleDots</th>\n      <td>0.096125</td>\n      <td>-0.008792</td>\n      <td>-0.012422</td>\n      <td>0.331998</td>\n      <td>0.115084</td>\n      <td>0.090144</td>\n      <td>0.035199</td>\n      <td>0.002360</td>\n      <td>0.023964</td>\n      <td>-0.003699</td>\n      <td>1.000000</td>\n      <td>-0.006142</td>\n      <td>-0.005889</td>\n    </tr>\n    <tr>\n      <th>UsesAtSigns</th>\n      <td>-0.016326</td>\n      <td>-0.056171</td>\n      <td>0.016871</td>\n      <td>-0.004228</td>\n      <td>0.018876</td>\n      <td>-0.022990</td>\n      <td>-0.005928</td>\n      <td>-0.013203</td>\n      <td>0.006256</td>\n      <td>-0.002393</td>\n      <td>-0.006142</td>\n      <td>1.000000</td>\n      <td>-0.040318</td>\n    </tr>\n    <tr>\n      <th>class</th>\n      <td>-0.027216</td>\n      <td>-0.043899</td>\n      <td>-0.039865</td>\n      <td>-0.045021</td>\n      <td>-0.027127</td>\n      <td>-0.026725</td>\n      <td>-0.010973</td>\n      <td>0.039042</td>\n      <td>-0.036652</td>\n      <td>0.043703</td>\n      <td>-0.005889</td>\n      <td>-0.040318</td>\n      <td>1.000000</td>\n    </tr>\n  </tbody>\n</table>\n</div>"
     },
     "execution_count": 29,
     "metadata": {},
     "output_type": "execute_result"
    }
   ]
  },
  {
   "cell_type": "markdown",
   "metadata": {
    "id": "TaWwkvfP_DdT"
   },
   "source": [
    "### Length features"
   ]
  },
  {
   "cell_type": "code",
   "metadata": {
    "id": "nBIlgjPmyjGt"
   },
   "source": [
    "lens_train = pd.DataFrame.from_dict({\n",
    "    'CharLength': X_train.apply(len),\n",
    "    'WordLength': X_train.apply(lambda msg: len(msg.split())),\n",
    "    'LineLength': X_train.apply(lambda msg: msg.count('\\n') + 1),\n",
    "})"
   ],
   "execution_count": 30,
   "outputs": []
  },
  {
   "cell_type": "code",
   "metadata": {
    "id": "Og-7cw9H5MQW"
   },
   "source": [
    "lens_test = pd.DataFrame.from_dict({\n",
    "    'CharLength': X_test.apply(len),\n",
    "    'WordLength': X_test.apply(lambda msg: len(msg.split())),\n",
    "    'LineLength': X_test.apply(lambda msg: msg.count('\\n') + 1),\n",
    "})"
   ],
   "execution_count": 31,
   "outputs": []
  },
  {
   "cell_type": "code",
   "metadata": {
    "colab": {
     "base_uri": "https://localhost:8080/"
    },
    "id": "d8Og1hDeyjKC",
    "outputId": "15535209-64b9-4203-cb29-d3cc951f0313"
   },
   "source": [
    "lens_train.head(5)"
   ],
   "execution_count": 32,
   "outputs": [
    {
     "data": {
      "text/plain": "   CharLength  WordLength  LineLength\n0          62          12           1\n1          19           5           1\n2          70          12           1\n3          13           3           1\n4          61          10           1",
      "text/html": "<div>\n<style scoped>\n    .dataframe tbody tr th:only-of-type {\n        vertical-align: middle;\n    }\n\n    .dataframe tbody tr th {\n        vertical-align: top;\n    }\n\n    .dataframe thead th {\n        text-align: right;\n    }\n</style>\n<table border=\"1\" class=\"dataframe\">\n  <thead>\n    <tr style=\"text-align: right;\">\n      <th></th>\n      <th>CharLength</th>\n      <th>WordLength</th>\n      <th>LineLength</th>\n    </tr>\n  </thead>\n  <tbody>\n    <tr>\n      <th>0</th>\n      <td>62</td>\n      <td>12</td>\n      <td>1</td>\n    </tr>\n    <tr>\n      <th>1</th>\n      <td>19</td>\n      <td>5</td>\n      <td>1</td>\n    </tr>\n    <tr>\n      <th>2</th>\n      <td>70</td>\n      <td>12</td>\n      <td>1</td>\n    </tr>\n    <tr>\n      <th>3</th>\n      <td>13</td>\n      <td>3</td>\n      <td>1</td>\n    </tr>\n    <tr>\n      <th>4</th>\n      <td>61</td>\n      <td>10</td>\n      <td>1</td>\n    </tr>\n  </tbody>\n</table>\n</div>"
     },
     "execution_count": 32,
     "metadata": {},
     "output_type": "execute_result"
    }
   ]
  },
  {
   "cell_type": "code",
   "metadata": {
    "colab": {
     "base_uri": "https://localhost:8080/"
    },
    "id": "ywDRnr7u7TbC",
    "outputId": "dc61aa45-0d6e-4014-d9da-a1b4fb76d31c"
   },
   "source": [
    "pd.concat([lens_train, y_train], axis=1).corr()"
   ],
   "execution_count": 33,
   "outputs": [
    {
     "data": {
      "text/plain": "            CharLength  WordLength  LineLength     class\nCharLength    1.000000    0.978204    0.423435 -0.027216\nWordLength    0.978204    1.000000    0.422770 -0.026725\nLineLength    0.423435    0.422770    1.000000 -0.027127\nclass        -0.027216   -0.026725   -0.027127  1.000000",
      "text/html": "<div>\n<style scoped>\n    .dataframe tbody tr th:only-of-type {\n        vertical-align: middle;\n    }\n\n    .dataframe tbody tr th {\n        vertical-align: top;\n    }\n\n    .dataframe thead th {\n        text-align: right;\n    }\n</style>\n<table border=\"1\" class=\"dataframe\">\n  <thead>\n    <tr style=\"text-align: right;\">\n      <th></th>\n      <th>CharLength</th>\n      <th>WordLength</th>\n      <th>LineLength</th>\n      <th>class</th>\n    </tr>\n  </thead>\n  <tbody>\n    <tr>\n      <th>CharLength</th>\n      <td>1.000000</td>\n      <td>0.978204</td>\n      <td>0.423435</td>\n      <td>-0.027216</td>\n    </tr>\n    <tr>\n      <th>WordLength</th>\n      <td>0.978204</td>\n      <td>1.000000</td>\n      <td>0.422770</td>\n      <td>-0.026725</td>\n    </tr>\n    <tr>\n      <th>LineLength</th>\n      <td>0.423435</td>\n      <td>0.422770</td>\n      <td>1.000000</td>\n      <td>-0.027127</td>\n    </tr>\n    <tr>\n      <th>class</th>\n      <td>-0.027216</td>\n      <td>-0.026725</td>\n      <td>-0.027127</td>\n      <td>1.000000</td>\n    </tr>\n  </tbody>\n</table>\n</div>"
     },
     "execution_count": 33,
     "metadata": {},
     "output_type": "execute_result"
    }
   ]
  },
  {
   "cell_type": "markdown",
   "metadata": {
    "id": "ehXKm0QM_GpB"
   },
   "source": [
    "### Character features"
   ]
  },
  {
   "cell_type": "code",
   "metadata": {
    "id": "Mny8yOM3yivk"
   },
   "source": [
    "char_vect = CountVectorizer(\n",
    "    lowercase=False,\n",
    "    analyzer='char',\n",
    "    min_df=3,\n",
    "    max_df=1.0,\n",
    "    ngram_range=(1, 2),\n",
    ")"
   ],
   "execution_count": 34,
   "outputs": []
  },
  {
   "cell_type": "code",
   "metadata": {
    "colab": {
     "base_uri": "https://localhost:8080/"
    },
    "id": "7mBYea9pJxM3",
    "outputId": "d4d57ba0-a8bd-4a40-b72e-0f0eda1f8bc5"
   },
   "source": [
    "print(X_train)"
   ],
   "execution_count": 35,
   "outputs": [
    {
     "name": "stdout",
     "output_type": "stream",
     "text": [
      "0       На сайте написано, что баллы больше 4 в сумме ...\n",
      "1                                     7 + (87-64) по идее\n",
      "2       3 газеты - 25.09, 23.10, 27.11 - 2 статьи поли...\n",
      "3                                           что за сайт?)\n",
      "4       я еще писал, что выбирал самое похожее слово, ...\n",
      "                              ...                        \n",
      "2774                      У них нет телефона для справки?\n",
      "2775                                Ладно. Выкладывай уже\n",
      "2776        А там написано, что больше 14 - две аудитории\n",
      "2777                              Что это за жучки у него\n",
      "2778       На консультации можно будет посмотреть я думаю\n",
      "Name: message, Length: 2779, dtype: object\n"
     ]
    }
   ]
  },
  {
   "cell_type": "code",
   "metadata": {
    "id": "WZBbCMDnyjCF"
   },
   "source": [
    "chars_train = pd.DataFrame.sparse.from_spmatrix(\n",
    "    char_vect.fit_transform(X_train)\n",
    ") \n",
    "chars_test = pd.DataFrame.sparse.from_spmatrix(\n",
    "    char_vect.transform(X_test)\n",
    ") "
   ],
   "execution_count": 36,
   "outputs": []
  },
  {
   "cell_type": "code",
   "metadata": {
    "colab": {
     "base_uri": "https://localhost:8080/"
    },
    "id": "6sLF_i3EmXx-",
    "outputId": "a9daf569-6f16-4b60-f2ce-2818e0933d7c"
   },
   "source": [
    "chars_train.head(5)"
   ],
   "execution_count": 37,
   "outputs": [
    {
     "data": {
      "text/plain": "   0     1     2     3     4     5     6     7     8     9     ...  1333  \\\n0     0     0     0     0     0     0     0     0     0     0  ...     1   \n1     0     0     0     0     0     0     0     0     0     0  ...     0   \n2     0     0     0     0     0     0     0     0     0     0  ...     0   \n3     0     0     0     0     0     0     0     0     0     0  ...     0   \n4     0     0     0     0     0     0     0     0     0     0  ...     0   \n\n   1334  1335  1336  1337  1338  1339  1340  1341  1342  \n0     0     0     0     0     0     0     0     0     0  \n1     0     0     0     0     0     0     0     0     0  \n2     0     0     0     0     0     0     0     0     0  \n3     0     0     0     0     0     0     0     0     0  \n4     0     0     0     0     0     0     0     0     0  \n\n[5 rows x 1343 columns]",
      "text/html": "<div>\n<style scoped>\n    .dataframe tbody tr th:only-of-type {\n        vertical-align: middle;\n    }\n\n    .dataframe tbody tr th {\n        vertical-align: top;\n    }\n\n    .dataframe thead th {\n        text-align: right;\n    }\n</style>\n<table border=\"1\" class=\"dataframe\">\n  <thead>\n    <tr style=\"text-align: right;\">\n      <th></th>\n      <th>0</th>\n      <th>1</th>\n      <th>2</th>\n      <th>3</th>\n      <th>4</th>\n      <th>5</th>\n      <th>6</th>\n      <th>7</th>\n      <th>8</th>\n      <th>9</th>\n      <th>...</th>\n      <th>1333</th>\n      <th>1334</th>\n      <th>1335</th>\n      <th>1336</th>\n      <th>1337</th>\n      <th>1338</th>\n      <th>1339</th>\n      <th>1340</th>\n      <th>1341</th>\n      <th>1342</th>\n    </tr>\n  </thead>\n  <tbody>\n    <tr>\n      <th>0</th>\n      <td>0</td>\n      <td>0</td>\n      <td>0</td>\n      <td>0</td>\n      <td>0</td>\n      <td>0</td>\n      <td>0</td>\n      <td>0</td>\n      <td>0</td>\n      <td>0</td>\n      <td>...</td>\n      <td>1</td>\n      <td>0</td>\n      <td>0</td>\n      <td>0</td>\n      <td>0</td>\n      <td>0</td>\n      <td>0</td>\n      <td>0</td>\n      <td>0</td>\n      <td>0</td>\n    </tr>\n    <tr>\n      <th>1</th>\n      <td>0</td>\n      <td>0</td>\n      <td>0</td>\n      <td>0</td>\n      <td>0</td>\n      <td>0</td>\n      <td>0</td>\n      <td>0</td>\n      <td>0</td>\n      <td>0</td>\n      <td>...</td>\n      <td>0</td>\n      <td>0</td>\n      <td>0</td>\n      <td>0</td>\n      <td>0</td>\n      <td>0</td>\n      <td>0</td>\n      <td>0</td>\n      <td>0</td>\n      <td>0</td>\n    </tr>\n    <tr>\n      <th>2</th>\n      <td>0</td>\n      <td>0</td>\n      <td>0</td>\n      <td>0</td>\n      <td>0</td>\n      <td>0</td>\n      <td>0</td>\n      <td>0</td>\n      <td>0</td>\n      <td>0</td>\n      <td>...</td>\n      <td>0</td>\n      <td>0</td>\n      <td>0</td>\n      <td>0</td>\n      <td>0</td>\n      <td>0</td>\n      <td>0</td>\n      <td>0</td>\n      <td>0</td>\n      <td>0</td>\n    </tr>\n    <tr>\n      <th>3</th>\n      <td>0</td>\n      <td>0</td>\n      <td>0</td>\n      <td>0</td>\n      <td>0</td>\n      <td>0</td>\n      <td>0</td>\n      <td>0</td>\n      <td>0</td>\n      <td>0</td>\n      <td>...</td>\n      <td>0</td>\n      <td>0</td>\n      <td>0</td>\n      <td>0</td>\n      <td>0</td>\n      <td>0</td>\n      <td>0</td>\n      <td>0</td>\n      <td>0</td>\n      <td>0</td>\n    </tr>\n    <tr>\n      <th>4</th>\n      <td>0</td>\n      <td>0</td>\n      <td>0</td>\n      <td>0</td>\n      <td>0</td>\n      <td>0</td>\n      <td>0</td>\n      <td>0</td>\n      <td>0</td>\n      <td>0</td>\n      <td>...</td>\n      <td>0</td>\n      <td>0</td>\n      <td>0</td>\n      <td>0</td>\n      <td>0</td>\n      <td>0</td>\n      <td>0</td>\n      <td>0</td>\n      <td>0</td>\n      <td>0</td>\n    </tr>\n  </tbody>\n</table>\n<p>5 rows × 1343 columns</p>\n</div>"
     },
     "execution_count": 37,
     "metadata": {},
     "output_type": "execute_result"
    }
   ]
  },
  {
   "cell_type": "code",
   "metadata": {
    "colab": {
     "base_uri": "https://localhost:8080/"
    },
    "id": "8464V6qNzK8S",
    "outputId": "770c41f1-dfc5-4816-814f-6de27e1dc427"
   },
   "source": [
    "len(char_vect.vocabulary_)"
   ],
   "execution_count": 38,
   "outputs": [
    {
     "data": {
      "text/plain": "1343"
     },
     "execution_count": 38,
     "metadata": {},
     "output_type": "execute_result"
    }
   ]
  },
  {
   "cell_type": "code",
   "metadata": {
    "colab": {
     "base_uri": "https://localhost:8080/"
    },
    "id": "-E1rJybY6XT_",
    "outputId": "8aba95c6-fef5-4926-c822-2c56735cf289"
   },
   "source": [
    "''.join(sorted(key for key in char_vect.vocabulary_.keys() if len(key) == 1))"
   ],
   "execution_count": 39,
   "outputs": [
    {
     "data": {
      "text/plain": "'\\n !\"()*+,-./0123456789:=>?@ABCDEFGLMNOPRSTX[]^_abcdefghijklmnoprstuvwxyz«»АБВГДЕЖЗИКЛМНОПРСТУФХЧЩЫЭЯабвгдежзийклмнопрстуфхцчшщъыьэюяё—'"
     },
     "execution_count": 39,
     "metadata": {},
     "output_type": "execute_result"
    }
   ]
  },
  {
   "cell_type": "markdown",
   "metadata": {
    "id": "h9hDsmBU_J3o"
   },
   "source": [
    "### POS features"
   ]
  },
  {
   "cell_type": "code",
   "metadata": {
    "id": "WHCQ3zXsyjNb"
   },
   "source": [
    "def pos_count(text):\n",
    "    result = {\n",
    "        pos: 0 for pos in morph.TagClass.PARTS_OF_SPEECH\n",
    "    }\n",
    "    result.update(Counter(filter(\n",
    "        lambda pos: pos is not None,\n",
    "        (morph.parse(token)[0].tag.POS for token in word_tokenize(text, language='russian'))\n",
    "    )))\n",
    "    return result"
   ],
   "execution_count": 40,
   "outputs": []
  },
  {
   "cell_type": "code",
   "metadata": {
    "id": "bQ7zA_3e_jRI"
   },
   "source": [
    "pos_train = pd.DataFrame(\n",
    "    pos_count(row) for row in X_train\n",
    ")"
   ],
   "execution_count": 41,
   "outputs": []
  },
  {
   "cell_type": "code",
   "metadata": {
    "colab": {
     "base_uri": "https://localhost:8080/"
    },
    "id": "WI1MtEXfCKYl",
    "outputId": "bb143b46-c180-4c5b-9558-11a6a54553e3"
   },
   "source": [
    "pos_train.head()"
   ],
   "execution_count": 42,
   "outputs": [
    {
     "data": {
      "text/plain": "   NPRO  PRTS  NOUN  PRTF  PRCL  PREP  CONJ  VERB  INFN  ADJS  INTJ  NUMR  \\\n0     0     1     3     0     0     3     1     1     0     0     0     0   \n1     0     0     1     0     0     1     0     0     0     0     0     0   \n2     0     0     3     0     0     0     0     0     0     0     0     0   \n3     0     0     1     0     0     1     1     0     0     0     0     0   \n4     1     0     1     1     0     1     1     2     0     0     0     0   \n\n   GRND  ADVB  PRED  ADJF  COMP  \n0     0     0     0     0     1  \n1     0     0     0     0     0  \n2     0     0     0     1     0  \n3     0     0     0     0     0  \n4     0     1     0     2     0  ",
      "text/html": "<div>\n<style scoped>\n    .dataframe tbody tr th:only-of-type {\n        vertical-align: middle;\n    }\n\n    .dataframe tbody tr th {\n        vertical-align: top;\n    }\n\n    .dataframe thead th {\n        text-align: right;\n    }\n</style>\n<table border=\"1\" class=\"dataframe\">\n  <thead>\n    <tr style=\"text-align: right;\">\n      <th></th>\n      <th>NPRO</th>\n      <th>PRTS</th>\n      <th>NOUN</th>\n      <th>PRTF</th>\n      <th>PRCL</th>\n      <th>PREP</th>\n      <th>CONJ</th>\n      <th>VERB</th>\n      <th>INFN</th>\n      <th>ADJS</th>\n      <th>INTJ</th>\n      <th>NUMR</th>\n      <th>GRND</th>\n      <th>ADVB</th>\n      <th>PRED</th>\n      <th>ADJF</th>\n      <th>COMP</th>\n    </tr>\n  </thead>\n  <tbody>\n    <tr>\n      <th>0</th>\n      <td>0</td>\n      <td>1</td>\n      <td>3</td>\n      <td>0</td>\n      <td>0</td>\n      <td>3</td>\n      <td>1</td>\n      <td>1</td>\n      <td>0</td>\n      <td>0</td>\n      <td>0</td>\n      <td>0</td>\n      <td>0</td>\n      <td>0</td>\n      <td>0</td>\n      <td>0</td>\n      <td>1</td>\n    </tr>\n    <tr>\n      <th>1</th>\n      <td>0</td>\n      <td>0</td>\n      <td>1</td>\n      <td>0</td>\n      <td>0</td>\n      <td>1</td>\n      <td>0</td>\n      <td>0</td>\n      <td>0</td>\n      <td>0</td>\n      <td>0</td>\n      <td>0</td>\n      <td>0</td>\n      <td>0</td>\n      <td>0</td>\n      <td>0</td>\n      <td>0</td>\n    </tr>\n    <tr>\n      <th>2</th>\n      <td>0</td>\n      <td>0</td>\n      <td>3</td>\n      <td>0</td>\n      <td>0</td>\n      <td>0</td>\n      <td>0</td>\n      <td>0</td>\n      <td>0</td>\n      <td>0</td>\n      <td>0</td>\n      <td>0</td>\n      <td>0</td>\n      <td>0</td>\n      <td>0</td>\n      <td>1</td>\n      <td>0</td>\n    </tr>\n    <tr>\n      <th>3</th>\n      <td>0</td>\n      <td>0</td>\n      <td>1</td>\n      <td>0</td>\n      <td>0</td>\n      <td>1</td>\n      <td>1</td>\n      <td>0</td>\n      <td>0</td>\n      <td>0</td>\n      <td>0</td>\n      <td>0</td>\n      <td>0</td>\n      <td>0</td>\n      <td>0</td>\n      <td>0</td>\n      <td>0</td>\n    </tr>\n    <tr>\n      <th>4</th>\n      <td>1</td>\n      <td>0</td>\n      <td>1</td>\n      <td>1</td>\n      <td>0</td>\n      <td>1</td>\n      <td>1</td>\n      <td>2</td>\n      <td>0</td>\n      <td>0</td>\n      <td>0</td>\n      <td>0</td>\n      <td>0</td>\n      <td>1</td>\n      <td>0</td>\n      <td>2</td>\n      <td>0</td>\n    </tr>\n  </tbody>\n</table>\n</div>"
     },
     "execution_count": 42,
     "metadata": {},
     "output_type": "execute_result"
    }
   ]
  },
  {
   "cell_type": "code",
   "metadata": {
    "id": "Pujh_nDpCKwF"
   },
   "source": [
    "pos_test = pd.DataFrame(\n",
    "    pos_count(row) for row in X_test\n",
    ")"
   ],
   "execution_count": 43,
   "outputs": []
  },
  {
   "cell_type": "code",
   "metadata": {
    "colab": {
     "base_uri": "https://localhost:8080/"
    },
    "id": "NlnAdb-zCK1_",
    "outputId": "f6851fa4-c55e-45ea-b788-bfcc5e45e1af"
   },
   "source": [
    "pos_test.head()"
   ],
   "execution_count": 44,
   "outputs": [
    {
     "data": {
      "text/plain": "   NPRO  PRTS  NOUN  PRTF  PRCL  PREP  CONJ  VERB  INFN  ADJS  INTJ  NUMR  \\\n0     0     0     0     0     0     0     0     1     0     0     0     0   \n1     0     0     2     0     0     1     0     0     0     0     1     0   \n2     1     0     0     0     0     0     0     0     0     0     0     0   \n3     0     0     1     0     0     1     0     1     0     0     0     0   \n4     1     0     2     0     0     1     0     0     0     0     0     0   \n\n   GRND  ADVB  PRED  ADJF  COMP  \n0     0     0     0     0     0  \n1     0     0     0     0     0  \n2     0     0     1     0     0  \n3     0     0     0     1     0  \n4     0     0     0     0     0  ",
      "text/html": "<div>\n<style scoped>\n    .dataframe tbody tr th:only-of-type {\n        vertical-align: middle;\n    }\n\n    .dataframe tbody tr th {\n        vertical-align: top;\n    }\n\n    .dataframe thead th {\n        text-align: right;\n    }\n</style>\n<table border=\"1\" class=\"dataframe\">\n  <thead>\n    <tr style=\"text-align: right;\">\n      <th></th>\n      <th>NPRO</th>\n      <th>PRTS</th>\n      <th>NOUN</th>\n      <th>PRTF</th>\n      <th>PRCL</th>\n      <th>PREP</th>\n      <th>CONJ</th>\n      <th>VERB</th>\n      <th>INFN</th>\n      <th>ADJS</th>\n      <th>INTJ</th>\n      <th>NUMR</th>\n      <th>GRND</th>\n      <th>ADVB</th>\n      <th>PRED</th>\n      <th>ADJF</th>\n      <th>COMP</th>\n    </tr>\n  </thead>\n  <tbody>\n    <tr>\n      <th>0</th>\n      <td>0</td>\n      <td>0</td>\n      <td>0</td>\n      <td>0</td>\n      <td>0</td>\n      <td>0</td>\n      <td>0</td>\n      <td>1</td>\n      <td>0</td>\n      <td>0</td>\n      <td>0</td>\n      <td>0</td>\n      <td>0</td>\n      <td>0</td>\n      <td>0</td>\n      <td>0</td>\n      <td>0</td>\n    </tr>\n    <tr>\n      <th>1</th>\n      <td>0</td>\n      <td>0</td>\n      <td>2</td>\n      <td>0</td>\n      <td>0</td>\n      <td>1</td>\n      <td>0</td>\n      <td>0</td>\n      <td>0</td>\n      <td>0</td>\n      <td>1</td>\n      <td>0</td>\n      <td>0</td>\n      <td>0</td>\n      <td>0</td>\n      <td>0</td>\n      <td>0</td>\n    </tr>\n    <tr>\n      <th>2</th>\n      <td>1</td>\n      <td>0</td>\n      <td>0</td>\n      <td>0</td>\n      <td>0</td>\n      <td>0</td>\n      <td>0</td>\n      <td>0</td>\n      <td>0</td>\n      <td>0</td>\n      <td>0</td>\n      <td>0</td>\n      <td>0</td>\n      <td>0</td>\n      <td>1</td>\n      <td>0</td>\n      <td>0</td>\n    </tr>\n    <tr>\n      <th>3</th>\n      <td>0</td>\n      <td>0</td>\n      <td>1</td>\n      <td>0</td>\n      <td>0</td>\n      <td>1</td>\n      <td>0</td>\n      <td>1</td>\n      <td>0</td>\n      <td>0</td>\n      <td>0</td>\n      <td>0</td>\n      <td>0</td>\n      <td>0</td>\n      <td>0</td>\n      <td>1</td>\n      <td>0</td>\n    </tr>\n    <tr>\n      <th>4</th>\n      <td>1</td>\n      <td>0</td>\n      <td>2</td>\n      <td>0</td>\n      <td>0</td>\n      <td>1</td>\n      <td>0</td>\n      <td>0</td>\n      <td>0</td>\n      <td>0</td>\n      <td>0</td>\n      <td>0</td>\n      <td>0</td>\n      <td>0</td>\n      <td>0</td>\n      <td>0</td>\n      <td>0</td>\n    </tr>\n  </tbody>\n</table>\n</div>"
     },
     "execution_count": 44,
     "metadata": {},
     "output_type": "execute_result"
    }
   ]
  },
  {
   "cell_type": "markdown",
   "metadata": {
    "id": "xvNvFT-__MaB"
   },
   "source": [
    "### TF-IDF features"
   ]
  },
  {
   "cell_type": "code",
   "metadata": {
    "colab": {
     "base_uri": "https://localhost:8080/"
    },
    "id": "NOLzd91LDQlm",
    "outputId": "708608f7-4da0-4286-a063-f733fe8f7cab"
   },
   "source": [
    "print(*nltk.corpus.stopwords.words('russian'), sep=' ')"
   ],
   "execution_count": 45,
   "outputs": [
    {
     "name": "stdout",
     "output_type": "stream",
     "text": [
      "и в во не что он на я с со как а то все она так его но да ты к у же вы за бы по только ее мне было вот от меня еще нет о из ему теперь когда даже ну вдруг ли если уже или ни быть был него до вас нибудь опять уж вам ведь там потом себя ничего ей может они тут где есть надо ней для мы тебя их чем была сам чтоб без будто чего раз тоже себе под будет ж тогда кто этот того потому этого какой совсем ним здесь этом один почти мой тем чтобы нее сейчас были куда зачем всех никогда можно при наконец два об другой хоть после над больше тот через эти нас про всего них какая много разве три эту моя впрочем хорошо свою этой перед иногда лучше чуть том нельзя такой им более всегда конечно всю между\n"
     ]
    }
   ]
  },
  {
   "cell_type": "code",
   "metadata": {
    "id": "Q1PfmMc9yjQu"
   },
   "source": [
    "def tfidf_tokenize(text):\n",
    "    return list(map(lambda word: morph.parse(word)[0].normal_form,\n",
    "                    word_tokenize(text, language='russian')))"
   ],
   "execution_count": 46,
   "outputs": []
  },
  {
   "cell_type": "code",
   "metadata": {
    "id": "p9AAvwSLCeXL"
   },
   "source": [
    "tfidf_vect = TfidfVectorizer(\n",
    "    tokenizer=tfidf_tokenize,\n",
    "    max_df=0.95,\n",
    "    min_df=3,\n",
    "    ngram_range=(1, 2),\n",
    "    max_features=100_000,\n",
    "    stop_words=nltk.corpus.stopwords.words('russian'),\n",
    ")"
   ],
   "execution_count": 47,
   "outputs": []
  },
  {
   "cell_type": "code",
   "metadata": {
    "id": "kvHrLMnNDbrG"
   },
   "source": [
    "tfidf_train = pd.DataFrame.sparse.from_spmatrix(\n",
    "    tfidf_vect.fit_transform(X_train)\n",
    ")\n",
    "tfidf_test = pd.DataFrame.sparse.from_spmatrix(\n",
    "    tfidf_vect.transform(X_test)\n",
    ")"
   ],
   "execution_count": 48,
   "outputs": []
  },
  {
   "cell_type": "code",
   "metadata": {
    "colab": {
     "base_uri": "https://localhost:8080/"
    },
    "id": "VDWjwm1bmeDG",
    "outputId": "2e078126-1e96-4b11-e754-9447492d21ea"
   },
   "source": [
    "tfidf_train.head(5)"
   ],
   "execution_count": 49,
   "outputs": [
    {
     "data": {
      "text/plain": "   0     1     2     3     4        5     6     7     8     9     ...  999   \\\n0   0.0   0.0   0.0   0.0   0.0  0.00000   0.0   0.0   0.0   0.0  ...   0.0   \n1   0.0   0.0   0.0   0.0   0.0  0.33933   0.0   0.0   0.0   0.0  ...   0.0   \n2   0.0   0.0   0.0   0.0   0.0  0.00000   0.0   0.0   0.0   0.0  ...   0.0   \n3   0.0   0.0   0.0   0.0   0.0  0.00000   0.0   0.0   0.0   0.0  ...   0.0   \n4   0.0   0.0   0.0   0.0   0.0  0.00000   0.0   0.0   0.0   0.0  ...   0.0   \n\n   1000  1001  1002  1003  1004  1005  1006  1007  1008  \n0   0.0   0.0   0.0   0.0   0.0   0.0   0.0   0.0   0.0  \n1   0.0   0.0   0.0   0.0   0.0   0.0   0.0   0.0   0.0  \n2   0.0   0.0   0.0   0.0   0.0   0.0   0.0   0.0   0.0  \n3   0.0   0.0   0.0   0.0   0.0   0.0   0.0   0.0   0.0  \n4   0.0   0.0   0.0   0.0   0.0   0.0   0.0   0.0   0.0  \n\n[5 rows x 1009 columns]",
      "text/html": "<div>\n<style scoped>\n    .dataframe tbody tr th:only-of-type {\n        vertical-align: middle;\n    }\n\n    .dataframe tbody tr th {\n        vertical-align: top;\n    }\n\n    .dataframe thead th {\n        text-align: right;\n    }\n</style>\n<table border=\"1\" class=\"dataframe\">\n  <thead>\n    <tr style=\"text-align: right;\">\n      <th></th>\n      <th>0</th>\n      <th>1</th>\n      <th>2</th>\n      <th>3</th>\n      <th>4</th>\n      <th>5</th>\n      <th>6</th>\n      <th>7</th>\n      <th>8</th>\n      <th>9</th>\n      <th>...</th>\n      <th>999</th>\n      <th>1000</th>\n      <th>1001</th>\n      <th>1002</th>\n      <th>1003</th>\n      <th>1004</th>\n      <th>1005</th>\n      <th>1006</th>\n      <th>1007</th>\n      <th>1008</th>\n    </tr>\n  </thead>\n  <tbody>\n    <tr>\n      <th>0</th>\n      <td>0.0</td>\n      <td>0.0</td>\n      <td>0.0</td>\n      <td>0.0</td>\n      <td>0.0</td>\n      <td>0.00000</td>\n      <td>0.0</td>\n      <td>0.0</td>\n      <td>0.0</td>\n      <td>0.0</td>\n      <td>...</td>\n      <td>0.0</td>\n      <td>0.0</td>\n      <td>0.0</td>\n      <td>0.0</td>\n      <td>0.0</td>\n      <td>0.0</td>\n      <td>0.0</td>\n      <td>0.0</td>\n      <td>0.0</td>\n      <td>0.0</td>\n    </tr>\n    <tr>\n      <th>1</th>\n      <td>0.0</td>\n      <td>0.0</td>\n      <td>0.0</td>\n      <td>0.0</td>\n      <td>0.0</td>\n      <td>0.33933</td>\n      <td>0.0</td>\n      <td>0.0</td>\n      <td>0.0</td>\n      <td>0.0</td>\n      <td>...</td>\n      <td>0.0</td>\n      <td>0.0</td>\n      <td>0.0</td>\n      <td>0.0</td>\n      <td>0.0</td>\n      <td>0.0</td>\n      <td>0.0</td>\n      <td>0.0</td>\n      <td>0.0</td>\n      <td>0.0</td>\n    </tr>\n    <tr>\n      <th>2</th>\n      <td>0.0</td>\n      <td>0.0</td>\n      <td>0.0</td>\n      <td>0.0</td>\n      <td>0.0</td>\n      <td>0.00000</td>\n      <td>0.0</td>\n      <td>0.0</td>\n      <td>0.0</td>\n      <td>0.0</td>\n      <td>...</td>\n      <td>0.0</td>\n      <td>0.0</td>\n      <td>0.0</td>\n      <td>0.0</td>\n      <td>0.0</td>\n      <td>0.0</td>\n      <td>0.0</td>\n      <td>0.0</td>\n      <td>0.0</td>\n      <td>0.0</td>\n    </tr>\n    <tr>\n      <th>3</th>\n      <td>0.0</td>\n      <td>0.0</td>\n      <td>0.0</td>\n      <td>0.0</td>\n      <td>0.0</td>\n      <td>0.00000</td>\n      <td>0.0</td>\n      <td>0.0</td>\n      <td>0.0</td>\n      <td>0.0</td>\n      <td>...</td>\n      <td>0.0</td>\n      <td>0.0</td>\n      <td>0.0</td>\n      <td>0.0</td>\n      <td>0.0</td>\n      <td>0.0</td>\n      <td>0.0</td>\n      <td>0.0</td>\n      <td>0.0</td>\n      <td>0.0</td>\n    </tr>\n    <tr>\n      <th>4</th>\n      <td>0.0</td>\n      <td>0.0</td>\n      <td>0.0</td>\n      <td>0.0</td>\n      <td>0.0</td>\n      <td>0.00000</td>\n      <td>0.0</td>\n      <td>0.0</td>\n      <td>0.0</td>\n      <td>0.0</td>\n      <td>...</td>\n      <td>0.0</td>\n      <td>0.0</td>\n      <td>0.0</td>\n      <td>0.0</td>\n      <td>0.0</td>\n      <td>0.0</td>\n      <td>0.0</td>\n      <td>0.0</td>\n      <td>0.0</td>\n      <td>0.0</td>\n    </tr>\n  </tbody>\n</table>\n<p>5 rows × 1009 columns</p>\n</div>"
     },
     "execution_count": 49,
     "metadata": {},
     "output_type": "execute_result"
    }
   ]
  },
  {
   "cell_type": "markdown",
   "metadata": {
    "id": "aYIFYR-MDXy4"
   },
   "source": [
    "### Merging features & splitting data"
   ]
  },
  {
   "cell_type": "code",
   "metadata": {
    "colab": {
     "base_uri": "https://localhost:8080/"
    },
    "id": "0y6ZQI6jDZeH",
    "outputId": "7d2adadb-1139-4ccc-db46-27edfba2a149"
   },
   "source": [
    "# dense_train = pd.concat([lens_train, pos_train], axis=1)\n",
    "dense_train = pd.concat([custom_train, tfidf_train, chars_train, pos_train], axis=1)\n",
    "dense_train.head(5)"
   ],
   "execution_count": 50,
   "outputs": [
    {
     "data": {
      "text/plain": "   CharLength  UsesCapital  SimpleSmilesCount  UsesPunctuation  LineLength  \\\n0          62            1                  0                1           1   \n1          19            0                  0                0           1   \n2          70            0                  0                7           1   \n3          13            0                  1                0           1   \n4          61            0                  0                2           1   \n\n   WordsCount  HasExclamations  HasCaps  VerbGender  HasDottedSignes  ...  \\\n0          12                0        0           0                0  ...   \n1           5                0        0           0                0  ...   \n2          12                0        0           0                0  ...   \n3           3                0        0           0                0  ...   \n4          10                0        0           1                0  ...   \n\n   VERB  INFN  ADJS  INTJ  NUMR  GRND  ADVB  PRED  ADJF  COMP  \n0     1     0     0     0     0     0     0     0     0     1  \n1     0     0     0     0     0     0     0     0     0     0  \n2     0     0     0     0     0     0     0     0     1     0  \n3     0     0     0     0     0     0     0     0     0     0  \n4     2     0     0     0     0     0     1     0     2     0  \n\n[5 rows x 2381 columns]",
      "text/html": "<div>\n<style scoped>\n    .dataframe tbody tr th:only-of-type {\n        vertical-align: middle;\n    }\n\n    .dataframe tbody tr th {\n        vertical-align: top;\n    }\n\n    .dataframe thead th {\n        text-align: right;\n    }\n</style>\n<table border=\"1\" class=\"dataframe\">\n  <thead>\n    <tr style=\"text-align: right;\">\n      <th></th>\n      <th>CharLength</th>\n      <th>UsesCapital</th>\n      <th>SimpleSmilesCount</th>\n      <th>UsesPunctuation</th>\n      <th>LineLength</th>\n      <th>WordsCount</th>\n      <th>HasExclamations</th>\n      <th>HasCaps</th>\n      <th>VerbGender</th>\n      <th>HasDottedSignes</th>\n      <th>...</th>\n      <th>VERB</th>\n      <th>INFN</th>\n      <th>ADJS</th>\n      <th>INTJ</th>\n      <th>NUMR</th>\n      <th>GRND</th>\n      <th>ADVB</th>\n      <th>PRED</th>\n      <th>ADJF</th>\n      <th>COMP</th>\n    </tr>\n  </thead>\n  <tbody>\n    <tr>\n      <th>0</th>\n      <td>62</td>\n      <td>1</td>\n      <td>0</td>\n      <td>1</td>\n      <td>1</td>\n      <td>12</td>\n      <td>0</td>\n      <td>0</td>\n      <td>0</td>\n      <td>0</td>\n      <td>...</td>\n      <td>1</td>\n      <td>0</td>\n      <td>0</td>\n      <td>0</td>\n      <td>0</td>\n      <td>0</td>\n      <td>0</td>\n      <td>0</td>\n      <td>0</td>\n      <td>1</td>\n    </tr>\n    <tr>\n      <th>1</th>\n      <td>19</td>\n      <td>0</td>\n      <td>0</td>\n      <td>0</td>\n      <td>1</td>\n      <td>5</td>\n      <td>0</td>\n      <td>0</td>\n      <td>0</td>\n      <td>0</td>\n      <td>...</td>\n      <td>0</td>\n      <td>0</td>\n      <td>0</td>\n      <td>0</td>\n      <td>0</td>\n      <td>0</td>\n      <td>0</td>\n      <td>0</td>\n      <td>0</td>\n      <td>0</td>\n    </tr>\n    <tr>\n      <th>2</th>\n      <td>70</td>\n      <td>0</td>\n      <td>0</td>\n      <td>7</td>\n      <td>1</td>\n      <td>12</td>\n      <td>0</td>\n      <td>0</td>\n      <td>0</td>\n      <td>0</td>\n      <td>...</td>\n      <td>0</td>\n      <td>0</td>\n      <td>0</td>\n      <td>0</td>\n      <td>0</td>\n      <td>0</td>\n      <td>0</td>\n      <td>0</td>\n      <td>1</td>\n      <td>0</td>\n    </tr>\n    <tr>\n      <th>3</th>\n      <td>13</td>\n      <td>0</td>\n      <td>1</td>\n      <td>0</td>\n      <td>1</td>\n      <td>3</td>\n      <td>0</td>\n      <td>0</td>\n      <td>0</td>\n      <td>0</td>\n      <td>...</td>\n      <td>0</td>\n      <td>0</td>\n      <td>0</td>\n      <td>0</td>\n      <td>0</td>\n      <td>0</td>\n      <td>0</td>\n      <td>0</td>\n      <td>0</td>\n      <td>0</td>\n    </tr>\n    <tr>\n      <th>4</th>\n      <td>61</td>\n      <td>0</td>\n      <td>0</td>\n      <td>2</td>\n      <td>1</td>\n      <td>10</td>\n      <td>0</td>\n      <td>0</td>\n      <td>1</td>\n      <td>0</td>\n      <td>...</td>\n      <td>2</td>\n      <td>0</td>\n      <td>0</td>\n      <td>0</td>\n      <td>0</td>\n      <td>0</td>\n      <td>1</td>\n      <td>0</td>\n      <td>2</td>\n      <td>0</td>\n    </tr>\n  </tbody>\n</table>\n<p>5 rows × 2381 columns</p>\n</div>"
     },
     "execution_count": 50,
     "metadata": {},
     "output_type": "execute_result"
    }
   ]
  },
  {
   "cell_type": "code",
   "metadata": {
    "colab": {
     "base_uri": "https://localhost:8080/"
    },
    "id": "o3PWvTlyD5BW",
    "outputId": "282c22fc-ddad-4716-e0eb-ae619cd7c33f"
   },
   "source": [
    "dense_test = pd.concat([custom_test, tfidf_test, chars_test, pos_test], axis=1)\n",
    "dense_test.head(3)"
   ],
   "execution_count": 51,
   "outputs": [
    {
     "data": {
      "text/plain": "   CharLength  UsesCapital  SimpleSmilesCount  UsesPunctuation  LineLength  \\\n0           6            1                  0                0           1   \n1          30            1                  0                1           1   \n2           7            0                  0                0           1   \n\n   WordsCount  HasExclamations  HasCaps  VerbGender  HasDottedSignes  ...  \\\n0           1                0        0           0                0  ...   \n1           4                0        0           0                0  ...   \n2           2                0        0           0                0  ...   \n\n   VERB  INFN  ADJS  INTJ  NUMR  GRND  ADVB  PRED  ADJF  COMP  \n0     1     0     0     0     0     0     0     0     0     0  \n1     0     0     0     1     0     0     0     0     0     0  \n2     0     0     0     0     0     0     0     1     0     0  \n\n[3 rows x 2381 columns]",
      "text/html": "<div>\n<style scoped>\n    .dataframe tbody tr th:only-of-type {\n        vertical-align: middle;\n    }\n\n    .dataframe tbody tr th {\n        vertical-align: top;\n    }\n\n    .dataframe thead th {\n        text-align: right;\n    }\n</style>\n<table border=\"1\" class=\"dataframe\">\n  <thead>\n    <tr style=\"text-align: right;\">\n      <th></th>\n      <th>CharLength</th>\n      <th>UsesCapital</th>\n      <th>SimpleSmilesCount</th>\n      <th>UsesPunctuation</th>\n      <th>LineLength</th>\n      <th>WordsCount</th>\n      <th>HasExclamations</th>\n      <th>HasCaps</th>\n      <th>VerbGender</th>\n      <th>HasDottedSignes</th>\n      <th>...</th>\n      <th>VERB</th>\n      <th>INFN</th>\n      <th>ADJS</th>\n      <th>INTJ</th>\n      <th>NUMR</th>\n      <th>GRND</th>\n      <th>ADVB</th>\n      <th>PRED</th>\n      <th>ADJF</th>\n      <th>COMP</th>\n    </tr>\n  </thead>\n  <tbody>\n    <tr>\n      <th>0</th>\n      <td>6</td>\n      <td>1</td>\n      <td>0</td>\n      <td>0</td>\n      <td>1</td>\n      <td>1</td>\n      <td>0</td>\n      <td>0</td>\n      <td>0</td>\n      <td>0</td>\n      <td>...</td>\n      <td>1</td>\n      <td>0</td>\n      <td>0</td>\n      <td>0</td>\n      <td>0</td>\n      <td>0</td>\n      <td>0</td>\n      <td>0</td>\n      <td>0</td>\n      <td>0</td>\n    </tr>\n    <tr>\n      <th>1</th>\n      <td>30</td>\n      <td>1</td>\n      <td>0</td>\n      <td>1</td>\n      <td>1</td>\n      <td>4</td>\n      <td>0</td>\n      <td>0</td>\n      <td>0</td>\n      <td>0</td>\n      <td>...</td>\n      <td>0</td>\n      <td>0</td>\n      <td>0</td>\n      <td>1</td>\n      <td>0</td>\n      <td>0</td>\n      <td>0</td>\n      <td>0</td>\n      <td>0</td>\n      <td>0</td>\n    </tr>\n    <tr>\n      <th>2</th>\n      <td>7</td>\n      <td>0</td>\n      <td>0</td>\n      <td>0</td>\n      <td>1</td>\n      <td>2</td>\n      <td>0</td>\n      <td>0</td>\n      <td>0</td>\n      <td>0</td>\n      <td>...</td>\n      <td>0</td>\n      <td>0</td>\n      <td>0</td>\n      <td>0</td>\n      <td>0</td>\n      <td>0</td>\n      <td>0</td>\n      <td>1</td>\n      <td>0</td>\n      <td>0</td>\n    </tr>\n  </tbody>\n</table>\n<p>3 rows × 2381 columns</p>\n</div>"
     },
     "execution_count": 51,
     "metadata": {},
     "output_type": "execute_result"
    }
   ]
  },
  {
   "cell_type": "code",
   "metadata": {
    "colab": {
     "base_uri": "https://localhost:8080/"
    },
    "id": "BS-djh9xjVmD",
    "outputId": "6c0e770f-c3ab-4591-e373-0ab2765968cf"
   },
   "source": [
    "train_indices, valid_indices = train_test_split(X_train.index, test_size=0.1, random_state=RANDOM_STATE, stratify=y_train)\n",
    "len(train_indices), len(valid_indices)"
   ],
   "execution_count": 52,
   "outputs": [
    {
     "data": {
      "text/plain": "(2501, 278)"
     },
     "execution_count": 52,
     "metadata": {},
     "output_type": "execute_result"
    }
   ]
  },
  {
   "cell_type": "code",
   "metadata": {
    "id": "-F0UnbKDjsRo"
   },
   "source": [
    "y_train, y_valid = y_train[train_indices], y_train[valid_indices]\n",
    "X_train, X_valid = X_train.loc[train_indices], X_train.loc[valid_indices]\n",
    "dense_train, dense_valid = dense_train.loc[train_indices], dense_train.loc[valid_indices]"
   ],
   "execution_count": 53,
   "outputs": []
  },
  {
   "cell_type": "markdown",
   "metadata": {
    "id": "uhykAT72vxdJ"
   },
   "source": [
    "## Utils"
   ]
  },
  {
   "cell_type": "code",
   "metadata": {
    "id": "KcPtgrwzlR-U"
   },
   "source": [
    "def precision_macro(y_true, y_pred):\n",
    "    return precision_score(y_true, y_pred, average='macro')\n",
    "\n",
    "def recall_macro(y_true, y_pred):\n",
    "    return recall_score(y_true, y_pred, average='macro')\n",
    "\n",
    "def f1_macro(y_true, y_pred):\n",
    "    return f1_score(y_true, y_pred, average='macro')\n",
    "\n",
    "\n",
    "def precision_micro(y_true, y_pred):\n",
    "    return precision_score(y_true, y_pred, average='micro')\n",
    "\n",
    "def recall_micro(y_true, y_pred):\n",
    "    return recall_score(y_true, y_pred, average='micro')\n",
    "\n",
    "def f1_micro(y_true, y_pred):\n",
    "    return f1_score(y_true, y_pred, average='micro')\n",
    "\n",
    "\n",
    "def get_scores(y_true, y_pred):\n",
    "    metrics = {\n",
    "        'Accuracy': accuracy_score,\n",
    "\n",
    "        '\\nPrecision (macro)': precision_macro,\n",
    "        'Recall (macro)': recall_macro,\n",
    "        'F1 (macro)': f1_macro,\n",
    "\n",
    "        '\\nPrecision (micro)': precision_micro,\n",
    "        'Recall (micro)': recall_micro,\n",
    "        'F1 (micro)': f1_micro,\n",
    "    }\n",
    "    return {\n",
    "        name: scorer(y_true, y_pred)\n",
    "        for name, scorer in metrics.items()\n",
    "    }\n",
    "\n",
    "def score_model(model, X, y):\n",
    "    y_pred = model.predict(X)\n",
    "    for name, score in get_scores(y, y_pred).items():\n",
    "        print(f'{name}: {score:.4f}')\n",
    "\n",
    "\n",
    "f1_micro_scorer = make_scorer(f1_micro)"
   ],
   "execution_count": 54,
   "outputs": []
  },
  {
   "cell_type": "code",
   "metadata": {
    "id": "qSzk4f6MtdeL"
   },
   "source": [
    "def plot_validation_curve(\n",
    "        train_scores,\n",
    "        valid_scores,\n",
    "        param_range,\n",
    "        title='Validation curve',\n",
    "        x_label='Parameter',\n",
    "        y_label='Score',\n",
    "        logx=False,\n",
    "    ):\n",
    "    train_scores_mean = np.mean(train_scores, axis=1)\n",
    "    train_scores_std = np.std(train_scores, axis=1)\n",
    "    valid_scores_mean = np.mean(valid_scores, axis=1)\n",
    "    valid_scores_std = np.std(valid_scores, axis=1)\n",
    "\n",
    "    plt.figure(figsize=(8, 6))\n",
    "    plt.title(title)\n",
    "    plt.xlabel(x_label)\n",
    "    plt.ylabel(y_label)\n",
    "    plt.ylim(0.0, 1.1)\n",
    "    lw = 2\n",
    "\n",
    "    if logx:\n",
    "        plt.semilogx(param_range, train_scores_mean, label=\"Training score\", color=\"orange\", lw=lw)\n",
    "        plt.semilogx(param_range, valid_scores_mean, label=\"Cross-validation score\", color=\"green\", lw=lw)\n",
    "    else:\n",
    "        plt.plot(param_range, train_scores_mean, label=\"Training score\", color=\"orange\", lw=lw)\n",
    "        plt.plot(param_range, valid_scores_mean, label=\"Cross-validation score\", color=\"green\", lw=lw)\n",
    "\n",
    "    plt.fill_between(\n",
    "        param_range,\n",
    "        train_scores_mean - train_scores_std,\n",
    "        train_scores_mean + train_scores_std,\n",
    "        alpha=0.2,\n",
    "        color=\"orange\",\n",
    "        lw=lw,\n",
    "    )\n",
    "    plt.fill_between(\n",
    "        param_range,\n",
    "        valid_scores_mean - valid_scores_std,\n",
    "        valid_scores_mean + valid_scores_std,\n",
    "        alpha=0.2,\n",
    "        color=\"green\",\n",
    "        lw=lw,\n",
    "    )\n",
    "\n",
    "    plt.legend(loc=\"best\")\n",
    "    plt.show()"
   ],
   "execution_count": 55,
   "outputs": []
  },
  {
   "cell_type": "code",
   "metadata": {
    "id": "elAwT3DeRIaU"
   },
   "source": [
    "def make_submission(model, X):\n",
    "    y = pd.Series(model.predict(X), name='class')\n",
    "    y.to_csv('csv/submission.csv', index_label='index')"
   ],
   "execution_count": 56,
   "outputs": []
  },
  {
   "cell_type": "markdown",
   "metadata": {
    "id": "YKqX49VrovRv"
   },
   "source": [
    "## Experiments: MLP"
   ]
  },
  {
   "cell_type": "markdown",
   "metadata": {
    "id": "ehiF9Urvs-FM"
   },
   "source": [
    "### MLP: dense features"
   ]
  },
  {
   "cell_type": "code",
   "metadata": {
    "id": "jOl-RWlWovRv"
   },
   "source": [
    "dense_mlp = MLPClassifier(\n",
    "      random_state=RANDOM_STATE,\n",
    "      batch_size=950,\n",
    "      hidden_layer_sizes=(1015, 1015, 1015),\n",
    "      learning_rate='adaptive',\n",
    "      activation='tanh',\n",
    "      solver='adam',\n",
    "      learning_rate_init=3e-4,\n",
    "      alpha=0.5,\n",
    "      max_iter=29,\n",
    "  ).fit(dense_train, y_train)\n",
    "    "
   ],
   "execution_count": 57,
   "outputs": []
  },
  {
   "cell_type": "code",
   "metadata": {
    "id": "-eYn7ReLovRv",
    "colab": {
     "base_uri": "https://localhost:8080/"
    },
    "outputId": "114e0a1b-6ad1-4df2-c6ff-5245c0330085"
   },
   "source": [
    "score_model(dense_mlp, dense_train, y_train)"
   ],
   "execution_count": 58,
   "outputs": [
    {
     "name": "stdout",
     "output_type": "stream",
     "text": [
      "Accuracy: 0.8569\n",
      "\n",
      "Precision (macro): 0.8737\n",
      "Recall (macro): 0.8240\n",
      "F1 (macro): 0.8428\n",
      "\n",
      "Precision (micro): 0.8569\n",
      "Recall (micro): 0.8569\n",
      "F1 (micro): 0.8569\n"
     ]
    }
   ]
  },
  {
   "cell_type": "code",
   "metadata": {
    "id": "fI15O2wskxph",
    "colab": {
     "base_uri": "https://localhost:8080/"
    },
    "outputId": "819b90e2-0125-4fdb-e2fc-092b122951a2"
   },
   "source": [
    "score_model(dense_mlp, dense_valid, y_valid)"
   ],
   "execution_count": 59,
   "outputs": [
    {
     "name": "stdout",
     "output_type": "stream",
     "text": [
      "Accuracy: 0.3417\n",
      "\n",
      "Precision (macro): 0.2614\n",
      "Recall (macro): 0.2742\n",
      "F1 (macro): 0.2630\n",
      "\n",
      "Precision (micro): 0.3417\n",
      "Recall (micro): 0.3417\n",
      "F1 (micro): 0.3417\n"
     ]
    }
   ]
  },
  {
   "cell_type": "markdown",
   "metadata": {
    "id": "lSzkGcl7D-de"
   },
   "source": [
    "### Make submission"
   ]
  },
  {
   "cell_type": "code",
   "metadata": {
    "id": "kpQbIwZq7lkF"
   },
   "source": [
    "make_submission(dense_mlp, dense_test)"
   ],
   "execution_count": 60,
   "outputs": []
  }
 ]
}